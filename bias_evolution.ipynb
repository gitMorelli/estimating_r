{
 "cells": [
  {
   "cell_type": "code",
   "execution_count": 1,
   "metadata": {},
   "outputs": [
    {
     "name": "stderr",
     "output_type": "stream",
     "text": [
      "2023-06-10 14:59:06.946383: I tensorflow/core/platform/cpu_feature_guard.cc:193] This TensorFlow binary is optimized with oneAPI Deep Neural Network Library (oneDNN) to use the following CPU instructions in performance-critical operations:  AVX2 FMA\n",
      "To enable them in other operations, rebuild TensorFlow with the appropriate compiler flags.\n",
      "2023-06-10 14:59:08.152003: W tensorflow/compiler/xla/stream_executor/platform/default/dso_loader.cc:64] Could not load dynamic library 'libnvinfer.so.7'; dlerror: libnvinfer.so.7: cannot open shared object file: No such file or directory\n",
      "2023-06-10 14:59:08.152128: W tensorflow/compiler/xla/stream_executor/platform/default/dso_loader.cc:64] Could not load dynamic library 'libnvinfer_plugin.so.7'; dlerror: libnvinfer_plugin.so.7: cannot open shared object file: No such file or directory\n",
      "2023-06-10 14:59:08.152144: W tensorflow/compiler/tf2tensorrt/utils/py_utils.cc:38] TF-TRT Warning: Cannot dlopen some TensorRT libraries. If you would like to use Nvidia GPU with TensorRT, please make sure the missing libraries mentioned above are installed properly.\n"
     ]
    }
   ],
   "source": [
    "import sys\n",
    "import h5py\n",
    "import numpy as np\n",
    "import healpy as hp\n",
    "import tensorflow as tf\n",
    "import random as python_random\n",
    "import nnhealpix.layers\n",
    "import matplotlib.pyplot as plt\n",
    "from tensorflow.keras import metrics\n",
    "import keras\n",
    "import pandas as pd\n",
    "import os, shutil\n",
    "import useful_functions as uf\n",
    "from loss_functions import sigma_loss, sigma_f_loss, sigma2_loss,sigma_batch_loss,sigma_norm_loss,sigma_log_loss,mse_tau,mse_sigma"
   ]
  },
  {
   "cell_type": "code",
   "execution_count": 2,
   "metadata": {},
   "outputs": [],
   "source": [
    "home_dir=\"/home/amorelli/r_estimate/foreground_B/7b_6_23/\"\n",
    "load_dir='/home/amorelli/r_estimate/foreground_B/' \n",
    "to_load=\"test_data_r_0_001_t006_40.npz\"\n",
    "loss_training=sigma_log_loss \n",
    "checkpoint_dir=home_dir+\"checkpoints\"\n",
    "last=-1"
   ]
  },
  {
   "cell_type": "code",
   "execution_count": 3,
   "metadata": {},
   "outputs": [],
   "source": [
    "f=np.load(load_dir+to_load)\n",
    "x_test=f[\"x_test\"]\n",
    "y_test=f[\"y_test\"]\n",
    "y_test,x_test=uf.unison_sorted_copies(y_test,x_test)"
   ]
  },
  {
   "cell_type": "code",
   "execution_count": 4,
   "metadata": {},
   "outputs": [
    {
     "name": "stderr",
     "output_type": "stream",
     "text": [
      "2023-06-10 14:59:11.617483: E tensorflow/compiler/xla/stream_executor/cuda/cuda_driver.cc:267] failed call to cuInit: CUDA_ERROR_NO_DEVICE: no CUDA-capable device is detected\n",
      "2023-06-10 14:59:11.617792: I tensorflow/compiler/xla/stream_executor/cuda/cuda_diagnostics.cc:156] kernel driver does not appear to be running on this host (coka.fe.infn.it): /proc/driver/nvidia/version does not exist\n",
      "2023-06-10 14:59:11.619531: I tensorflow/core/platform/cpu_feature_guard.cc:193] This TensorFlow binary is optimized with oneAPI Deep Neural Network Library (oneDNN) to use the following CPU instructions in performance-critical operations:  AVX2 FMA\n",
      "To enable them in other operations, rebuild TensorFlow with the appropriate compiler flags.\n"
     ]
    }
   ],
   "source": [
    "n_layer_0=48\n",
    "n_layer_1=256\n",
    "n_layer_2=16\n",
    "nside=16\n",
    "drop=0.2\n",
    "one_layer=True\n",
    "shape = (hp.nside2npix(nside), 2)\n",
    "inputs = tf.keras.layers.Input(shape)\n",
    "# nside 16 -> 8\n",
    "x=inputs\n",
    "for k in range(4):\n",
    "    x = nnhealpix.layers.ConvNeighbours(nside//2**k, filters=32, kernel_size=9)(x)\n",
    "    x = tf.keras.layers.Activation('relu')(x)\n",
    "    x = nnhealpix.layers.Dgrade(nside//2**k, nside//2**(k+1))(x) # i use 4 convolutional layers, for each layer i decrease the number of pixels by 1/2\n",
    "# dropout\n",
    "x = tf.keras.layers.Dropout(drop)(x)\n",
    "x = tf.keras.layers.Flatten()(x)\n",
    "if one_layer==True:# depending on the state os one_layer i create a NN with one layer or with two layers\n",
    "    x = tf.keras.layers.Dense(n_layer_0)(x)\n",
    "    x = tf.keras.layers.Activation('relu')(x)\n",
    "    out = tf.keras.layers.Dense(2)(x)\n",
    "else:\n",
    "    x = tf.keras.layers.Dense(n_layer_1)(x)\n",
    "    x = tf.keras.layers.Activation('relu')(x)\n",
    "    x = tf.keras.layers.Dropout(drop)(x)\n",
    "    x = tf.keras.layers.Dense(n_layer_2)(x)\n",
    "    x = tf.keras.layers.Activation('relu')(x)\n",
    "    out = tf.keras.layers.Dense(2)(x)\n",
    "tf.keras.backend.clear_session()\n",
    "model = tf.keras.models.Model(inputs=inputs, outputs=out)\n",
    "model.compile(loss=loss_training, optimizer=tf.optimizers.Adam(),metrics=metrics)"
   ]
  },
  {
   "cell_type": "code",
   "execution_count": 5,
   "metadata": {},
   "outputs": [],
   "source": [
    "files=os.listdir(checkpoint_dir)\n",
    "files.sort()\n",
    "checkpoint_path=files[last]\n",
    "model.load_weights(checkpoint_dir+'/'+ checkpoint_path)"
   ]
  },
  {
   "cell_type": "code",
   "execution_count": 6,
   "metadata": {
    "scrolled": false
   },
   "outputs": [
    {
     "name": "stdout",
     "output_type": "stream",
     "text": [
      "313/313 [==============================] - 7s 20ms/step\n"
     ]
    }
   ],
   "source": [
    "#results=model.evaluate(x,y,verbose=2)\n",
    "predictions=model.predict(x_test)"
   ]
  },
  {
   "cell_type": "code",
   "execution_count": 7,
   "metadata": {},
   "outputs": [],
   "source": [
    "predictions=predictions[:,0]"
   ]
  },
  {
   "cell_type": "markdown",
   "metadata": {},
   "source": [
    "tau_pred=predictions[:,0]\n",
    "sigma_pred=np.abs(predictions[:,1])#*predictions[:,1]\n",
    "tau_est=np.mean(tau_pred)\n",
    "sigma_tau=np.std(tau_pred)**2\n",
    "#sigma_tau=np.sum((tau_pred-0.06)**2)/10000\n",
    "sigma_est=np.mean(sigma_pred)\n",
    "counts_tau, bins_tau = np.histogram(tau_pred)\n",
    "counts_sigma, bins_sigma = np.histogram(sigma_pred)"
   ]
  },
  {
   "cell_type": "code",
   "execution_count": 8,
   "metadata": {},
   "outputs": [],
   "source": [
    "bias=[]\n",
    "y_bias=[] #y_test compressed so that i have only once each value of y_test\n",
    "y_count=[] #number of equal y in y_test for each element in above array\n",
    "prev_index=0\n",
    "b=0\n",
    "p=0\n",
    "pred=[]\n",
    "for i in range(1,len(y_test)):\n",
    "    if y_test[i] != y_test[i-1]:\n",
    "        y_count.append(i-prev_index)\n",
    "        prev_index=i\n",
    "        y_bias.append(y_test[i-1])\n",
    "        b/=y_count[-1]\n",
    "        p/=y_count[-1]\n",
    "        bias.append(b)\n",
    "        pred.append(p)\n",
    "        b=0\n",
    "    else:\n",
    "        b+=y_test[i]-predictions[i]\n",
    "        p+=predictions[i]"
   ]
  },
  {
   "cell_type": "code",
   "execution_count": 9,
   "metadata": {},
   "outputs": [
    {
     "data": {
      "text/plain": [
       "[<matplotlib.lines.Line2D at 0x7f23a87eea90>]"
      ]
     },
     "execution_count": 9,
     "metadata": {},
     "output_type": "execute_result"
    },
    {
     "data": {
      "image/png": "[encoded data removed]",
      "text/plain": [
       "<Figure size 640x480 with 1 Axes>"
      ]
     },
     "metadata": {},
     "output_type": "display_data"
    }
   ],
   "source": [
    "plt.plot(y_bias,bias)\n",
    "plt.plot(y_bias,pred)\n",
    "plt.plot(y_bias,y_bias)"
   ]
  },
  {
   "cell_type": "code",
   "execution_count": null,
   "metadata": {},
   "outputs": [],
   "source": []
  }
 ],
 "metadata": {
  "kernelspec": {
   "display_name": "camb-kernel",
   "language": "python",
   "name": "camb-kernel"
  },
  "language_info": {
   "codemirror_mode": {
    "name": "ipython",
    "version": 3
   },
   "file_extension": ".py",
   "mimetype": "text/x-python",
   "name": "python",
   "nbconvert_exporter": "python",
   "pygments_lexer": "ipython3",
   "version": "3.9.16"
  }
 },
 "nbformat": 4,
 "nbformat_minor": 5
}
