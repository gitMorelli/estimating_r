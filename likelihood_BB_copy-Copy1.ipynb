{
 "cells": [
  {
   "cell_type": "code",
   "execution_count": 1,
   "metadata": {},
   "outputs": [
    {
     "name": "stdout",
     "output_type": "stream",
     "text": [
      "[   0.            0.         1062.77997376 1001.541642    946.72632484\n",
      "  906.04615453  878.15738712  860.33259682  849.5338048   844.29900884\n",
      "  843.16292261  844.69955979  849.5346233   855.72380787  863.15703036\n",
      "  870.78212413  880.3482778   891.67604555  903.59806006  916.86657967\n",
      "  929.86895038  943.30369327  957.20131798  971.17754861  985.55308014\n",
      " 1000.45880649 1015.40240183 1030.79750833 1046.47832609 1062.36093289\n",
      " 1078.63593196 1094.70505928 1111.38074605 1128.12958658 1144.92329326\n",
      " 1162.33653903 1179.46497127 1196.8409353  1214.57900003 1232.58298512\n",
      " 1250.77273598 1269.06227659 1287.45376722 1305.95840325 1324.62452261\n",
      " 1343.51532059 1362.59623528]\n"
     ]
    }
   ],
   "source": [
    "# import the necessary libraries\n",
    "import sys, platform, os\n",
    "import matplotlib\n",
    "from matplotlib import pyplot as plt\n",
    "import numpy as np\n",
    "import camb\n",
    "import pandas as pd\n",
    "import healpy as hp\n",
    "from camb import model, initialpower\n",
    "\n",
    "#Set up a new set of parameters for CAMB\n",
    "pars = camb.CAMBparams()\n",
    "Nside_red=16\n",
    "Nside=512\n",
    "lmax=3*Nside_red-1\n",
    "l_gen=4*Nside #i put l_gen >> lmax as in the other files to generate the cl\n",
    "\n",
    "#i generate one Cl for r=r_test\n",
    "const=1.88 * 10**(-9)\n",
    "tau=0.06\n",
    "r=0.06\n",
    "pars.set_cosmology(H0=67.32, ombh2=0.02237, omch2=0.1201, mnu=0.06, omk=0, tau=tau)\n",
    "pars.InitPower.set_params(As=const*np.exp(2*tau), ns=0.9651, r=r)\n",
    "pars.set_for_lmax(l_gen, lens_potential_accuracy=0)\n",
    "pars.WantTensors=True\n",
    "results = camb.get_results(pars)\n",
    "powers =results.get_cmb_power_spectra(pars, CMB_unit='muK',raw_cl=False)#spectra are multiplied by l*(l+1)/2pi, i keep them like this\n",
    "#because i also need to rescale the input_cl -> so the cl i use are all scaled in the same way\n",
    "totCL=powers['total']\n",
    "ls = np.arange(totCL.shape[0])\n",
    "cl_obs=np.asarray(totCL[0:lmax,2])# i take the C_l^BB\n",
    "ell = np.arange(0,lmax+1)"
   ]
  },
  {
   "cell_type": "code",
   "execution_count": 2,
   "metadata": {},
   "outputs": [
    {
     "name": "stdout",
     "output_type": "stream",
     "text": [
      "['data', 'r']\n",
      "(1100, 4, 47)\n",
      "[0.00000000e+00 5.45950864e-05 1.09190173e-04 1.63785259e-04\n",
      " 2.18380346e-04 2.72975432e-04 3.27570519e-04 3.82165605e-04\n",
      " 4.36760692e-04 4.91355778e-04]\n"
     ]
    }
   ],
   "source": [
    "f_ = np.load('/home/amorelli/cl_generator/outfile_R_000_006.npz')# itake as input the Cl i use to generate the training set for the NN\n",
    "print(f_.files) #give the keywords for the stored arrays\n",
    "data_in=f_[\"data\"]\n",
    "r_in=f_[\"r\"]\n",
    "print(data_in.shape)\n",
    "\n",
    "def unison_sorted_copies(a, b): # the function to sort two arrays in unison = i sort the first array and the \n",
    "    #the elements of the second are sorted in the same way\n",
    "    assert len(a) == len(b)\n",
    "    p=np.argsort(a,axis=0) #i sort a and take the array of the indexes of the sorted a elements\n",
    "    a_out=np.empty_like(a) \n",
    "    b_out=np.empty_like(b)\n",
    "    for i in range(len(a)): #reorder both arrays using these indexes. I need to do like this (different from unison shuffle)\n",
    "        #because if not the shape of the array changes\n",
    "        a_out[i]=a[p[i]]\n",
    "        b_out[i]=b[p[i]]\n",
    "    return a_out, b_out\n",
    "r_in,data_in=unison_sorted_copies(r_in, data_in) # i sort according to r\n",
    "end=len(data_in)\n",
    "data=data_in[:end]\n",
    "r_arr=r_in[:end]"
   ]
  },
  {
   "cell_type": "code",
   "execution_count": 3,
   "metadata": {},
   "outputs": [
    {
     "name": "stdout",
     "output_type": "stream",
     "text": [
      "439.74226071262797\n"
     ]
    }
   ],
   "source": [
    "high_nside = 512\n",
    "low_nside= 16\n",
    "window=hp.pixwin(low_nside,lmax=lmax, pol=False)\n",
    "res=hp.nside2resol(low_nside)\n",
    "beam=hp.gauss_beam(2*res, lmax=lmax, pol=False)\n",
    "res_low=hp.nside2resol(low_nside)\n",
    "n_pix=hp.nside2npix(low_nside)\n",
    "sensitivity=4/2**0.25 #i take this sensitivity because i need to compare with a NN that uses two maps\n",
    "#it can be shown that is like analysing a single map with smaller sensitivity\n",
    "mu, sigma = 0, sensitivity*np.deg2rad(1./60.)/res\n",
    "Nl=(sensitivity*np.deg2rad(1.0/60.0))**2 #i compute the Nl (harmonic transorm of the noise)\n",
    "smooth=beam*window"
   ]
  },
  {
   "cell_type": "code",
   "execution_count": 4,
   "metadata": {},
   "outputs": [],
   "source": [
    "def normalize_cl(input_cl): #this is the function to divide each cl of a given spectra by l(l+1)/2pi\n",
    "    output_cl=np.zeros(len(input_cl)) # i prepare the output array\n",
    "    for i in range(1,len(input_cl)):\n",
    "        output_cl[i]=input_cl[i]/i/(i+1)*2*np.pi # i divide each element by l(l+1)/2pi\n",
    "    return output_cl\n",
    "    "
   ]
  },
  {
   "cell_type": "code",
   "execution_count": 5,
   "metadata": {},
   "outputs": [
    {
     "name": "stdout",
     "output_type": "stream",
     "text": [
      "(1101, 47)\n"
     ]
    }
   ],
   "source": [
    "all_cl=np.zeros((len(r_arr)+1, lmax)) #i prepare an array to store all normalized spectra. The 0th element is the test spectra\n",
    "all_cl[0]=normalize_cl(cl_obs)*(smooth[:lmax])**2+Nl#i normalize the test spectra and multiply the B_l*W_l and sum N_l\n",
    "for i in range(1,len(r_arr)+1):\n",
    "    d=data[i-1,2,:] #i take the ith C^BB(l) spectra\n",
    "    all_cl[i]=normalize_cl(d)*(smooth[:lmax])**2+Nl #i normalize and .. "
   ]
  },
  {
   "cell_type": "code",
   "execution_count": 6,
   "metadata": {},
   "outputs": [
    {
     "name": "stdout",
     "output_type": "stream",
     "text": [
      "[-2.93478454e+03 -2.52106089e+03 -2.24433921e+03 ... -3.11777912e-04\n",
      " -7.78817449e-05  2.84217094e-14]\n"
     ]
    }
   ],
   "source": [
    "def compute_likelihood(c_obs,c_th,l): #this takes in input the lth element of the test spectra and the lth\n",
    "    #element of each input spectra\n",
    "    cl_obs=c_obs[l]\n",
    "    cl_th=c_th[:,l]\n",
    "    logL=np.zeros(len(cl_th))\n",
    "    for i,cl in enumerate(cl_th):\n",
    "        cl_r=cl\n",
    "        logL_i=-(2*l+1)/2*((cl_obs/cl_r)+np.log(np.abs(cl_r))-1-np.log(np.abs(cl_obs))) #this is the expression to compute \n",
    "        #the log-likelihood for a certain l<=lmax. \n",
    "        #the term -1-np.log(np.abs(cl_obs)) is addes so that for cl_r=cl_obs logL=0 -> L=1\n",
    "        logL[i]=logL_i\n",
    "    return(logL)\n",
    "logL=0\n",
    "l=lmax\n",
    "for l in ell[2:l]: # i compute logL for each value of l and take the sum of all of them to get the complete likelihood\n",
    "    logL+=compute_likelihood(all_cl[0],all_cl[1:],l)\n",
    "L_l=np.exp(logL) "
   ]
  },
  {
   "cell_type": "code",
   "execution_count": 7,
   "metadata": {},
   "outputs": [
    {
     "data": {
      "text/plain": [
       "[<matplotlib.lines.Line2D at 0x7fdd813ea550>]"
      ]
     },
     "execution_count": 7,
     "metadata": {},
     "output_type": "execute_result"
    },
    {
     "data": {
      "image/png": "[encoded data removed]",
      "text/plain": [
       "<Figure size 640x480 with 1 Axes>"
      ]
     },
     "metadata": {},
     "output_type": "display_data"
    }
   ],
   "source": [
    "plt.plot(r_arr,L_l,color='r',linestyle='None',marker='.', markersize = 1.0)"
   ]
  },
  {
   "cell_type": "code",
   "execution_count": 9,
   "metadata": {},
   "outputs": [
    {
     "name": "stdout",
     "output_type": "stream",
     "text": [
      "0.005213230551175968\n",
      "1.0000000000000002\n",
      "0.05673895456165714\n",
      "5.837987638268689e-06\n",
      "0.0024161927982403824\n"
     ]
    }
   ],
   "source": [
    "from scipy.integrate import trapz, simps\n",
    "A=trapz(L_l, r_arr) # i compute the area under the likelihood curve\n",
    "L_l=L_l/A #i normalize the likelihood curve so that the area is 1\n",
    "mean=trapz(L_l*r_arr, r_arr)# i compute mean from the likelihood\n",
    "var=trapz(L_l*(r_arr-mean)**2,r_arr) # i compute the variance from the likelihood\n",
    "sigma=var**0.5\n",
    "print(mean,sigma)"
   ]
  },
  {
   "cell_type": "code",
   "execution_count": 10,
   "metadata": {},
   "outputs": [
    {
     "name": "stdout",
     "output_type": "stream",
     "text": [
      "0.056740783224625134 0.0024166994667840203\n"
     ]
    },
    {
     "data": {
      "image/png": "[encoded data removed]",
      "text/plain": [
       "<Figure size 640x480 with 1 Axes>"
      ]
     },
     "metadata": {},
     "output_type": "display_data"
    }
   ],
   "source": [
    "from scipy.interpolate import interp1d # this is another way to get sigma and mean from the likelihood function\n",
    "rover = np.linspace(0,r_arr[end-1],10000) #i generate the set of points on which i want to compute the likelihood\n",
    "\n",
    "likeover = interp1d(r_arr,logL,kind='cubic')(rover) # i interpolate the points of the likelihood curve: i generate a curve with len(rover)\n",
    "#points that best fits the likelihood array so that the likelihood curve is smoother\n",
    "probover = np.exp(likeover)\n",
    "\n",
    "plt.plot(rover,probover)\n",
    "\n",
    "meanr = np.sum(probover*rover)/np.sum(probover) # i compute directly the mean on the set of discrete points (i don't do the integral)\n",
    "sigmar = np.sqrt(np.sum(probover*rover**2)/np.sum(probover) - meanr**2)\n",
    "print(meanr,sigmar)"
   ]
  },
  {
   "cell_type": "code",
   "execution_count": null,
   "metadata": {},
   "outputs": [],
   "source": []
  },
  {
   "cell_type": "code",
   "execution_count": null,
   "metadata": {},
   "outputs": [],
   "source": []
  },
  {
   "cell_type": "code",
   "execution_count": null,
   "metadata": {},
   "outputs": [],
   "source": []
  },
  {
   "cell_type": "code",
   "execution_count": null,
   "metadata": {},
   "outputs": [],
   "source": []
  }
 ],
 "metadata": {
  "kernelspec": {
   "display_name": "camb-kernel",
   "language": "python",
   "name": "camb-kernel"
  },
  "language_info": {
   "codemirror_mode": {
    "name": "ipython",
    "version": 3
   },
   "file_extension": ".py",
   "mimetype": "text/x-python",
   "name": "python",
   "nbconvert_exporter": "python",
   "pygments_lexer": "ipython3",
   "version": "3.9.16"
  }
 },
 "nbformat": 4,
 "nbformat_minor": 5
}
