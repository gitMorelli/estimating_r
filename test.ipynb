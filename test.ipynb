{
 "cells": [
  {
   "cell_type": "code",
   "execution_count": 2,
   "metadata": {},
   "outputs": [
    {
     "name": "stdout",
     "output_type": "stream",
     "text": [
      "posix\n",
      "Linux\n",
      "3.10.0-1160.88.1.el7.x86_64\n",
      "posix.uname_result(sysname='Linux', nodename='coka.fe.infn.it', release='3.10.0-1160.88.1.el7.x86_64', version='#1 SMP Tue Mar 7 15:41:52 UTC 2023', machine='x86_64')\n"
     ]
    }
   ],
   "source": [
    "import os\n",
    "\n",
    "print(os.name)\n",
    "\n",
    "import platform\n",
    "\n",
    "print(platform.system())\n",
    "\n",
    "print(platform.release())\n",
    "\n",
    "print(os.uname())"
   ]
  },
  {
   "cell_type": "code",
   "execution_count": 4,
   "metadata": {},
   "outputs": [
    {
     "name": "stdout",
     "output_type": "stream",
     "text": [
      "0 0\n",
      "1 12\n",
      "2 48\n",
      "3 108\n",
      "4 192\n",
      "5 300\n",
      "6 432\n",
      "7 588\n",
      "8 768\n",
      "9 972\n",
      "10 1200\n",
      "11 1452\n",
      "12 1728\n",
      "13 2028\n",
      "14 2352\n",
      "15 2700\n",
      "16 3072\n"
     ]
    }
   ],
   "source": [
    "import healpy as hp\n",
    "for i in range(17):\n",
    "    try:\n",
    "        print(i,hp.nside2npix(i))\n",
    "    except:\n",
    "        print(\"could not compute it\")\n",
    "    finally:\n",
    "        pass"
   ]
  },
  {
   "cell_type": "code",
   "execution_count": null,
   "metadata": {},
   "outputs": [],
   "source": []
  }
 ],
 "metadata": {
  "kernelspec": {
   "display_name": "camb-kernel",
   "language": "python",
   "name": "camb-kernel"
  },
  "language_info": {
   "codemirror_mode": {
    "name": "ipython",
    "version": 3
   },
   "file_extension": ".py",
   "mimetype": "text/x-python",
   "name": "python",
   "nbconvert_exporter": "python",
   "pygments_lexer": "ipython3",
   "version": "3.9.16"
  }
 },
 "nbformat": 4,
 "nbformat_minor": 2
}
