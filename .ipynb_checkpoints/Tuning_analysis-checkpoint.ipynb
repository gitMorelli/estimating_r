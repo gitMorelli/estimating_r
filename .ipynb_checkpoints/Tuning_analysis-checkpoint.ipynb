{
 "cells": [
  {
   "cell_type": "code",
   "execution_count": 1,
   "metadata": {},
   "outputs": [
    {
     "name": "stderr",
     "output_type": "stream",
     "text": [
      "2023-05-08 18:12:13.399089: I tensorflow/core/platform/cpu_feature_guard.cc:193] This TensorFlow binary is optimized with oneAPI Deep Neural Network Library (oneDNN) to use the following CPU instructions in performance-critical operations:  AVX2 FMA\n",
      "To enable them in other operations, rebuild TensorFlow with the appropriate compiler flags.\n",
      "2023-05-08 18:12:14.729757: W tensorflow/compiler/xla/stream_executor/platform/default/dso_loader.cc:64] Could not load dynamic library 'libnvinfer.so.7'; dlerror: libnvinfer.so.7: cannot open shared object file: No such file or directory\n",
      "2023-05-08 18:12:14.729884: W tensorflow/compiler/xla/stream_executor/platform/default/dso_loader.cc:64] Could not load dynamic library 'libnvinfer_plugin.so.7'; dlerror: libnvinfer_plugin.so.7: cannot open shared object file: No such file or directory\n",
      "2023-05-08 18:12:14.729901: W tensorflow/compiler/tf2tensorrt/utils/py_utils.cc:38] TF-TRT Warning: Cannot dlopen some TensorRT libraries. If you would like to use Nvidia GPU with TensorRT, please make sure the missing libraries mentioned above are installed properly.\n"
     ]
    }
   ],
   "source": [
    "import sys\n",
    "import h5py\n",
    "import numpy as np\n",
    "import healpy as hp\n",
    "import tensorflow as tf\n",
    "import random as python_random\n",
    "import nnhealpix.layers\n",
    "from tensorflow.keras import metrics\n",
    "import pandas as pd\n",
    "from loss_functions import sigma_loss, sigma2_loss,sigma_batch_loss,sigma_norm_loss,sigma_log_loss,mse_tau,mse_sigma\n",
    "import keras_tuner\n",
    "fval=0.1\n",
    "n_train=100000\n",
    "f_tune=0.1"
   ]
  },
  {
   "cell_type": "code",
   "execution_count": 2,
   "metadata": {},
   "outputs": [],
   "source": [
    "class MyHyperModel(keras_tuner.HyperModel):\n",
    "    def build(self, kt):\n",
    "        reduce_lr_on_plateau =True# False\n",
    "        lr=kt.Float(\"lr\", min_value=2e-5, max_value=2*1e-3, step=2, sampling=\"log\")#0.001 #steps=log_2(max/min)=7.6\n",
    "        drop_rate=kt.Float(\"drop_rate\", min_value=0.1, max_value=0.6, step=0.1)#0.2 \n",
    "        #activation_funct=kt.Choice(\"activation_funct\", [\"relu\", \"tanh\"])#relu\n",
    "\n",
    "        shape = (hp.nside2npix(nside), 2)\n",
    "        inputs = tf.keras.layers.Input(shape)\n",
    "        # nside 16 -> 8\n",
    "        x = nnhealpix.layers.ConvNeighbours(nside, filters=32, kernel_size=9)(inputs)\n",
    "        x = tf.keras.layers.Activation('relu')(x)\n",
    "        x = nnhealpix.layers.Dgrade(nside, nside//2)(x)\n",
    "        # nside 8 -> 4\n",
    "        x = nnhealpix.layers.ConvNeighbours(nside//2, filters=32, kernel_size=9)(x)\n",
    "        x = tf.keras.layers.Activation('relu')(x)\n",
    "        x = nnhealpix.layers.Dgrade(nside//2, nside//4)(x)\n",
    "        # nside 4 -> 2\n",
    "        x = nnhealpix.layers.ConvNeighbours(nside//4, filters=32, kernel_size=9)(x)\n",
    "        x = tf.keras.layers.Activation('relu')(x)\n",
    "        x = nnhealpix.layers.Dgrade(nside//4, nside//8)(x)\n",
    "        # nside 2 -> 1\n",
    "        x = nnhealpix.layers.ConvNeighbours(nside//8, filters=32, kernel_size=9)(x)\n",
    "        x = tf.keras.layers.Activation('relu')(x)\n",
    "        x = nnhealpix.layers.Dgrade(nside//8, nside//16)(x)\n",
    "        # dropout\n",
    "        x = tf.keras.layers.Dropout(drop_rate)(x)\n",
    "        x = tf.keras.layers.Flatten()(x)\n",
    "        #for i in range(kt.Int(\"num_layers\", 1, 2)):\n",
    "            #x = tf.keras.layers.Dense(kt.Int(f\"n_layers_{i}\", min_value=8, max_value=256, step=2, sampling=\"log\"))(x)#steps=5\n",
    "            #x = tf.keras.layers.Activation('relu')(x)\n",
    "        x = tf.keras.layers.Dense(kt.Int(\"n_layers_0\", min_value=16, max_value=256, step=2, sampling=\"log\"))(x)#steps=5\n",
    "        x = tf.keras.layers.Activation('relu')(x)\n",
    "        x = tf.keras.layers.Dropout(drop_rate)(x)\n",
    "        x = tf.keras.layers.Dense(kt.Int(\"n_layers_1\", min_value=16, max_value=256, step=2, sampling=\"log\"))(x)#steps=5\n",
    "        x = tf.keras.layers.Activation('relu')(x)\n",
    "        out = tf.keras.layers.Dense(2)(x)\n",
    "\n",
    "        tf.keras.backend.clear_session()\n",
    "        model = tf.keras.models.Model(inputs=inputs, outputs=out)\n",
    "        metrics=[sigma_loss, sigma2_loss,sigma_batch_loss,sigma_norm_loss,sigma_log_loss,mse_tau,mse_sigma]\n",
    "        loss_funct=2 #kt.Choice(\"loss_funct\", [0, 2])#relu\n",
    "        model.compile(loss=metrics[loss_funct], optimizer=tf.optimizers.Adam(learning_rate=lr),metrics=metrics[0])\n",
    "        return model\n",
    "    def fit(self,kt,model, x, y, validation_data=None, batch_size=None, shuffle=None , **kwargs):\n",
    "        n_tune=int(n_train*f_tune)\n",
    "        n_val=int(n_tune*fval)\n",
    "        batch_size=kt.Int(\"batch_size\", 16, 128, step=2, sampling=\"log\" )#32 , steps=7.5\n",
    "        p_stopping=20\n",
    "        p_reduce=kt.Int(\"p_reduce\", min_value=2, max_value=20, step=2)#5, steps=9\n",
    "        f_reduce=kt.Float(\"f_reduce\", min_value=0.1, max_value=0.8, step=0.1)\n",
    "        stop_to_monitor=\"val_loss\"\n",
    "        reduce_to_monitor=\"val_loss\"\n",
    "        early_stopping = tf.keras.callbacks.EarlyStopping(monitor=stop_to_monitor,patience=p_stopping) #,mode='min')\n",
    "        reduce_lr = tf.keras.callbacks.ReduceLROnPlateau(monitor=reduce_to_monitor, factor=f_reduce,patience=p_reduce)\n",
    "        self.callbacks = kwargs.get('callbacks')+[early_stopping,reduce_lr]\n",
    "        x,y=unison_shuffled_copies(x, y)\n",
    "        tot=n_tune-n_val\n",
    "        R=tot%batch_size\n",
    "        x_train=x[:tot-R]\n",
    "        x_val=x[tot-R:n_tune+1]\n",
    "        y_train=y[:tot-R]\n",
    "        y_val=y[tot-R:n_tune+1]\n",
    "        print(x_train.shape,y_train.shape, x_val.shape, y_val.shape)\n",
    "        if loss_training==sigma_batch_loss:\n",
    "            print(\"yes_this_loss\")\n",
    "            y_train, x_train = unison_sorted_copies(y_train, x_train)\n",
    "            list_length=int(len(y_train)/batch_size)\n",
    "            lista=np.zeros(shape=(list_length,batch_size,y_train.shape[1]))\n",
    "            lista_2=np.zeros(shape=(list_length,batch_size,x_train.shape[1],x_train.shape[2]))\n",
    "            for i in range(list_length):\n",
    "                for j in range(batch_size):\n",
    "                    lista[i,j]=y_train[batch_size*i+j]\n",
    "                    lista_2[i,j]=x_train[batch_size*i+j]\n",
    "            lista , lista_2 = unison_shuffled_copies(lista, lista_2)\n",
    "            for i in range(list_length):\n",
    "                for j in range(batch_size):\n",
    "                    y_train[batch_size*i+j]=lista[i,j]\n",
    "                    x_train[batch_size*i+j]=lista_2[i,j]\n",
    "            return model.fit(x_train,y_train,validation_data=(x_val,y_val),batch_size=batch_size, shuffle=False, **kwargs)\n",
    "        else:\n",
    "            return model.fit(x_train,y_train,validation_data=(x_val,y_val),batch_size=batch_size, **kwargs)"
   ]
  },
  {
   "cell_type": "code",
   "execution_count": 3,
   "metadata": {},
   "outputs": [
    {
     "name": "stdout",
     "output_type": "stream",
     "text": [
      "INFO:tensorflow:Reloading Tuner from /home/amorelli/r_estimate/B_maps_white_noise/tuning/3_5_23/tuner0.json\n",
      "Search space summary\n",
      "Default search space size: 7\n",
      "lr (Float)\n",
      "{'default': 2e-05, 'conditions': [], 'min_value': 2e-05, 'max_value': 0.002, 'step': 2, 'sampling': 'log'}\n",
      "drop_rate (Float)\n",
      "{'default': 0.1, 'conditions': [], 'min_value': 0.1, 'max_value': 0.6, 'step': 0.1, 'sampling': 'linear'}\n",
      "n_layers_0 (Int)\n",
      "{'default': None, 'conditions': [], 'min_value': 16, 'max_value': 256, 'step': 2, 'sampling': 'log'}\n",
      "n_layers_1 (Int)\n",
      "{'default': None, 'conditions': [], 'min_value': 16, 'max_value': 256, 'step': 2, 'sampling': 'log'}\n",
      "batch_size (Int)\n",
      "{'default': None, 'conditions': [], 'min_value': 16, 'max_value': 128, 'step': 2, 'sampling': 'log'}\n",
      "p_reduce (Int)\n",
      "{'default': None, 'conditions': [], 'min_value': 2, 'max_value': 20, 'step': 2, 'sampling': 'linear'}\n",
      "f_reduce (Float)\n",
      "{'default': 0.1, 'conditions': [], 'min_value': 0.1, 'max_value': 0.8, 'step': 0.1, 'sampling': 'linear'}\n",
      "tuner search space summary: /n None\n"
     ]
    }
   ],
   "source": [
    "home_dir='/home/amorelli/r_estimate/B_maps_white_noise/tuning'\n",
    "#RandomSearch\n",
    "tuner = keras_tuner.BayesianOptimization(\n",
    "    MyHyperModel(),\n",
    "    objective=\"val_loss\",\n",
    "    max_trials=50,\n",
    "    executions_per_trial=3,\n",
    "    directory=home_dir,\n",
    "    overwrite=False,\n",
    "    project_name=\"3_5_23\"\n",
    ")\n",
    "print(\"tuner search space summary:\",\"/n\",tuner.search_space_summary())"
   ]
  },
  {
   "cell_type": "code",
   "execution_count": 4,
   "metadata": {},
   "outputs": [
    {
     "name": "stdout",
     "output_type": "stream",
     "text": [
      "Results summary\n",
      "Results in /home/amorelli/r_estimate/B_maps_white_noise/tuning/3_5_23\n",
      "Showing 10 best trials\n",
      "Objective(name=\"val_loss\", direction=\"min\")\n",
      "\n",
      "Trial 23 summary\n",
      "Hyperparameters:\n",
      "lr: 8e-05\n",
      "drop_rate: 0.1\n",
      "n_layers_0: 64\n",
      "n_layers_1: 64\n",
      "batch_size: 16\n",
      "p_reduce: 4\n",
      "f_reduce: 0.30000000000000004\n",
      "Score: 0.00016764422374156615\n",
      "\n",
      "Trial 21 summary\n",
      "Hyperparameters:\n",
      "lr: 4e-05\n",
      "drop_rate: 0.30000000000000004\n",
      "n_layers_0: 128\n",
      "n_layers_1: 32\n",
      "batch_size: 16\n",
      "p_reduce: 14\n",
      "f_reduce: 0.4\n",
      "Score: 0.00016988449594161162\n",
      "\n",
      "Trial 31 summary\n",
      "Hyperparameters:\n",
      "lr: 4e-05\n",
      "drop_rate: 0.1\n",
      "n_layers_0: 16\n",
      "n_layers_1: 16\n",
      "batch_size: 16\n",
      "p_reduce: 20\n",
      "f_reduce: 0.1\n",
      "Score: 0.00017837737686932087\n",
      "\n",
      "Trial 28 summary\n",
      "Hyperparameters:\n",
      "lr: 0.00016\n",
      "drop_rate: 0.1\n",
      "n_layers_0: 32\n",
      "n_layers_1: 64\n",
      "batch_size: 16\n",
      "p_reduce: 18\n",
      "f_reduce: 0.8\n",
      "Score: 0.00018190826813224703\n",
      "\n",
      "Trial 36 summary\n",
      "Hyperparameters:\n",
      "lr: 0.00032\n",
      "drop_rate: 0.1\n",
      "n_layers_0: 256\n",
      "n_layers_1: 16\n",
      "batch_size: 16\n",
      "p_reduce: 20\n",
      "f_reduce: 0.1\n",
      "Score: 0.00019295668365278593\n",
      "\n",
      "Trial 38 summary\n",
      "Hyperparameters:\n",
      "lr: 2e-05\n",
      "drop_rate: 0.5\n",
      "n_layers_0: 256\n",
      "n_layers_1: 16\n",
      "batch_size: 16\n",
      "p_reduce: 2\n",
      "f_reduce: 0.1\n",
      "Score: 0.00019976494756216803\n",
      "\n",
      "Trial 32 summary\n",
      "Hyperparameters:\n",
      "lr: 0.00128\n",
      "drop_rate: 0.1\n",
      "n_layers_0: 32\n",
      "n_layers_1: 16\n",
      "batch_size: 16\n",
      "p_reduce: 2\n",
      "f_reduce: 0.8\n",
      "Score: 0.00020301443388840804\n",
      "\n",
      "Trial 37 summary\n",
      "Hyperparameters:\n",
      "lr: 2e-05\n",
      "drop_rate: 0.1\n",
      "n_layers_0: 16\n",
      "n_layers_1: 16\n",
      "batch_size: 16\n",
      "p_reduce: 2\n",
      "f_reduce: 0.1\n",
      "Score: 0.00021367161631739387\n",
      "\n",
      "Trial 33 summary\n",
      "Hyperparameters:\n",
      "lr: 0.00128\n",
      "drop_rate: 0.1\n",
      "n_layers_0: 256\n",
      "n_layers_1: 128\n",
      "batch_size: 16\n",
      "p_reduce: 12\n",
      "f_reduce: 0.8\n",
      "Score: 0.00022081035422161222\n",
      "\n",
      "Trial 34 summary\n",
      "Hyperparameters:\n",
      "lr: 0.00128\n",
      "drop_rate: 0.1\n",
      "n_layers_0: 256\n",
      "n_layers_1: 16\n",
      "batch_size: 16\n",
      "p_reduce: 2\n",
      "f_reduce: 0.1\n",
      "Score: 0.00022358667532292506\n"
     ]
    }
   ],
   "source": [
    "tuner.results_summary(10)"
   ]
  },
  {
   "cell_type": "code",
   "execution_count": 5,
   "metadata": {},
   "outputs": [
    {
     "name": "stderr",
     "output_type": "stream",
     "text": [
      "2023-05-08 18:12:17.072149: E tensorflow/compiler/xla/stream_executor/cuda/cuda_driver.cc:267] failed call to cuInit: CUDA_ERROR_NO_DEVICE: no CUDA-capable device is detected\n",
      "2023-05-08 18:12:17.072236: I tensorflow/compiler/xla/stream_executor/cuda/cuda_diagnostics.cc:156] kernel driver does not appear to be running on this host (coka.fe.infn.it): /proc/driver/nvidia/version does not exist\n",
      "2023-05-08 18:12:17.073165: I tensorflow/core/platform/cpu_feature_guard.cc:193] This TensorFlow binary is optimized with oneAPI Deep Neural Network Library (oneDNN) to use the following CPU instructions in performance-critical operations:  AVX2 FMA\n",
      "To enable them in other operations, rebuild TensorFlow with the appropriate compiler flags.\n"
     ]
    },
    {
     "name": "stdout",
     "output_type": "stream",
     "text": [
      "<class 'keras.engine.functional.Functional'>\n",
      "Model: \"model\"\n",
      "_________________________________________________________________\n",
      " Layer (type)                Output Shape              Param #   \n",
      "=================================================================\n",
      " input_1 (InputLayer)        [(None, 3072, 2)]         0         \n",
      "                                                                 \n",
      " order_map (OrderMap)        (None, 27648, 2)          0         \n",
      "                                                                 \n",
      " conv1d (Conv1D)             (None, 3072, 32)          576       \n",
      "                                                                 \n",
      " activation (Activation)     (None, 3072, 32)          0         \n",
      "                                                                 \n",
      " order_map_1 (OrderMap)      (None, 3072, 32)          0         \n",
      "                                                                 \n",
      " average_pooling1d (AverageP  (None, 768, 32)          0         \n",
      " ooling1D)                                                       \n",
      "                                                                 \n",
      " order_map_2 (OrderMap)      (None, 6912, 32)          0         \n",
      "                                                                 \n",
      " conv1d_1 (Conv1D)           (None, 768, 32)           9216      \n",
      "                                                                 \n",
      " activation_1 (Activation)   (None, 768, 32)           0         \n",
      "                                                                 \n",
      " order_map_3 (OrderMap)      (None, 768, 32)           0         \n",
      "                                                                 \n",
      " average_pooling1d_1 (Averag  (None, 192, 32)          0         \n",
      " ePooling1D)                                                     \n",
      "                                                                 \n",
      " order_map_4 (OrderMap)      (None, 1728, 32)          0         \n",
      "                                                                 \n",
      " conv1d_2 (Conv1D)           (None, 192, 32)           9216      \n",
      "                                                                 \n",
      " activation_2 (Activation)   (None, 192, 32)           0         \n",
      "                                                                 \n",
      " order_map_5 (OrderMap)      (None, 192, 32)           0         \n",
      "                                                                 \n",
      " average_pooling1d_2 (Averag  (None, 48, 32)           0         \n",
      " ePooling1D)                                                     \n",
      "                                                                 \n",
      " order_map_6 (OrderMap)      (None, 432, 32)           0         \n",
      "                                                                 \n",
      " conv1d_3 (Conv1D)           (None, 48, 32)            9216      \n",
      "                                                                 \n",
      " activation_3 (Activation)   (None, 48, 32)            0         \n",
      "                                                                 \n",
      " order_map_7 (OrderMap)      (None, 48, 32)            0         \n",
      "                                                                 \n",
      " average_pooling1d_3 (Averag  (None, 12, 32)           0         \n",
      " ePooling1D)                                                     \n",
      "                                                                 \n",
      " dropout (Dropout)           (None, 12, 32)            0         \n",
      "                                                                 \n",
      " flatten (Flatten)           (None, 384)               0         \n",
      "                                                                 \n",
      " dense (Dense)               (None, 64)                24640     \n",
      "                                                                 \n",
      " activation_4 (Activation)   (None, 64)                0         \n",
      "                                                                 \n",
      " dropout_1 (Dropout)         (None, 64)                0         \n",
      "                                                                 \n",
      " dense_1 (Dense)             (None, 64)                4160      \n",
      "                                                                 \n",
      " activation_5 (Activation)   (None, 64)                0         \n",
      "                                                                 \n",
      " dense_2 (Dense)             (None, 2)                 130       \n",
      "                                                                 \n",
      "=================================================================\n",
      "Total params: 57,154\n",
      "Trainable params: 57,154\n",
      "Non-trainable params: 0\n",
      "_________________________________________________________________\n"
     ]
    }
   ],
   "source": [
    "nside=16\n",
    "models = tuner.get_best_models(num_models=2)\n",
    "best_model = models[0]\n",
    "print(type(best_model))\n",
    "best_model.summary()"
   ]
  },
  {
   "cell_type": "code",
   "execution_count": 6,
   "metadata": {},
   "outputs": [
    {
     "name": "stdout",
     "output_type": "stream",
     "text": [
      "{'lr': 8e-05, 'drop_rate': 0.1, 'n_layers_0': 64, 'n_layers_1': 64, 'batch_size': 16, 'p_reduce': 4, 'f_reduce': 0.30000000000000004}\n"
     ]
    }
   ],
   "source": [
    "best_hp = tuner.get_best_hyperparameters(100)\n",
    "#model = tuner.hypermodel.build(best_hp[0])\n",
    "print(best_hp[0].values)"
   ]
  },
  {
   "cell_type": "code",
   "execution_count": 7,
   "metadata": {},
   "outputs": [
    {
     "name": "stdout",
     "output_type": "stream",
     "text": [
      "dict_keys(['lr', 'drop_rate', 'n_layers_0', 'n_layers_1', 'batch_size', 'p_reduce', 'f_reduce'])\n",
      "['lr', 'drop_rate', 'n_layers_0', 'n_layers_1', 'batch_size', 'p_reduce', 'f_reduce']\n"
     ]
    }
   ],
   "source": [
    "print(best_hp[0].values.keys())\n",
    "keys=[]\n",
    "for key in best_hp[0].values.keys():\n",
    "    if type(best_hp[0].values[key]) != type(\"s\"):\n",
    "        keys.append(key)\n",
    "print(keys)"
   ]
  },
  {
   "cell_type": "code",
   "execution_count": 11,
   "metadata": {},
   "outputs": [],
   "source": [
    "x_axis=range(len(best_hp))\n",
    "d={}\n",
    "for key in keys:\n",
    "    #print(key,type(best_hp[0].values[key]))\n",
    "    d[key]=[best_hp[x].get(key) for x in x_axis]\n",
    "data=pd.DataFrame(d)\n",
    "running_data= data.rolling(window=5).mean()\n",
    "#print(lr[:10])"
   ]
  },
  {
   "cell_type": "code",
   "execution_count": 1,
   "metadata": {},
   "outputs": [
    {
     "ename": "NameError",
     "evalue": "name 'keys' is not defined",
     "output_type": "error",
     "traceback": [
      "\u001b[0;31m---------------------------------------------------------------------------\u001b[0m",
      "\u001b[0;31mNameError\u001b[0m                                 Traceback (most recent call last)",
      "Cell \u001b[0;32mIn[1], line 3\u001b[0m\n\u001b[1;32m      1\u001b[0m \u001b[38;5;28;01mimport\u001b[39;00m \u001b[38;5;21;01mmatplotlib\u001b[39;00m\u001b[38;5;21;01m.\u001b[39;00m\u001b[38;5;21;01mpyplot\u001b[39;00m \u001b[38;5;28;01mas\u001b[39;00m \u001b[38;5;21;01mplt\u001b[39;00m\n\u001b[1;32m      2\u001b[0m fig \u001b[38;5;241m=\u001b[39m plt\u001b[38;5;241m.\u001b[39mfigure()\n\u001b[0;32m----> 3\u001b[0m \u001b[38;5;28;01mfor\u001b[39;00m i,key \u001b[38;5;129;01min\u001b[39;00m \u001b[38;5;28menumerate\u001b[39m(\u001b[43mkeys\u001b[49m):\n\u001b[1;32m      4\u001b[0m     plt\u001b[38;5;241m.\u001b[39msubplot(\u001b[38;5;241m3\u001b[39m,\u001b[38;5;241m3\u001b[39m,i\u001b[38;5;241m+\u001b[39m\u001b[38;5;241m1\u001b[39m)\n\u001b[1;32m      5\u001b[0m     plt\u001b[38;5;241m.\u001b[39mplot(x_axis,running_data[key])\n",
      "\u001b[0;31mNameError\u001b[0m: name 'keys' is not defined"
     ]
    },
    {
     "data": {
      "text/plain": [
       "<Figure size 640x480 with 0 Axes>"
      ]
     },
     "metadata": {},
     "output_type": "display_data"
    }
   ],
   "source": [
    "import matplotlib.pyplot as plt\n",
    "fig = plt.figure()\n",
    "for i,key in enumerate(keys):\n",
    "    plt.subplot(3,3,i+1)\n",
    "    plt.plot(x_axis,running_data[key])\n",
    "    plt.title(key)"
   ]
  },
  {
   "cell_type": "code",
   "execution_count": 10,
   "metadata": {},
   "outputs": [
    {
     "name": "stdout",
     "output_type": "stream",
     "text": [
      "0         NaN\n",
      "1         NaN\n",
      "2         NaN\n",
      "3         NaN\n",
      "4         NaN\n",
      "5         NaN\n",
      "6         NaN\n",
      "7         NaN\n",
      "8         NaN\n",
      "9    0.000452\n",
      "Name: lr, dtype: float64\n"
     ]
    }
   ],
   "source": [
    "print(running_data[\"lr\"][:10])"
   ]
  },
  {
   "cell_type": "code",
   "execution_count": null,
   "metadata": {},
   "outputs": [],
   "source": []
  }
 ],
 "metadata": {
  "kernelspec": {
   "display_name": "camb-kernel",
   "language": "python",
   "name": "camb-kernel"
  },
  "language_info": {
   "codemirror_mode": {
    "name": "ipython",
    "version": 3
   },
   "file_extension": ".py",
   "mimetype": "text/x-python",
   "name": "python",
   "nbconvert_exporter": "python",
   "pygments_lexer": "ipython3",
   "version": "3.9.16"
  }
 },
 "nbformat": 4,
 "nbformat_minor": 2
}
