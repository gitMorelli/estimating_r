{
 "cells": [
  {
   "cell_type": "code",
   "execution_count": 1,
   "metadata": {},
   "outputs": [
    {
     "name": "stderr",
     "output_type": "stream",
     "text": [
      "/home/amorelli/fgbuster/fgbuster/observation_helpers.py:97: FutureWarning: In a future version of pandas all arguments of DataFrame.dropna will be keyword-only.\n",
      "  return df.dropna(1, 'all')\n"
     ]
    }
   ],
   "source": [
    "import sys, platform, os\n",
    "import numpy as np\n",
    "import camb\n",
    "import pandas as pd\n",
    "import healpy as hp\n",
    "from camb import model, initialpower\n",
    "import useful_functions as uf\n",
    "import pysm3\n",
    "from fgbuster import (CMB, Dust, Synchrotron, basic_comp_sep,get_observation, get_instrument, get_sky)\n",
    "from fgbuster.visualization import corner_norm\n",
    "%load_ext autoreload\n",
    "%autoreload 2\n",
    "%matplotlib inline\n",
    "import pylab\n",
    "pylab.rcParams['figure.figsize'] = 12, 16\n",
    "\n",
    "nside_patch = 16\n",
    "nside=16\n",
    "nside_compsep=nside_patch\n",
    "\n",
    "seed_test=70\n",
    "np.random.seed(seed_test)\n",
    "#n_freq=len(sensitivities)\n",
    "n_pix=hp.nside2npix(nside)\n",
    "\n",
    "instrument = get_instrument('LiteBIRD')\n",
    "kind_of_map='d0s0'\n",
    "cmb='c1'\n",
    "n_maps=1\n",
    "pol=2\n",
    "\n",
    "#sky_vary = get_sky(NSIDE_PATCH, kind_of_map)\n",
    "sky_vary = get_sky(nside, kind_of_map)\n",
    "cmb_sky=get_sky(nside, cmb)\n",
    "\n",
    "'''for spectral_param in [sky_vary.components[0].mbb_index,\n",
    "                       sky_vary.components[0].mbb_temperature,\n",
    "                       sky_vary.components[1].pl_index]:\n",
    "    spectral_param[:] = hp.ud_grade(hp.ud_grade(spectral_param.value, nside_patch),\n",
    "                                    nside) * spectral_param.unit\n",
    "    print(spectral_param.unit)'''\n",
    "\n",
    "unit=-3 #uk->mk \n",
    "foreground_maps=np.zeros((n_maps,15,3,n_pix))\n",
    "cmb_freq = get_observation(instrument, cmb_sky, noise=False, nside=nside,unit='mK_CMB')\n",
    "for i in range(n_maps):\n",
    "    sync_freq_maps = get_observation(instrument, sky_vary, noise=True, nside=nside,unit='mK_CMB') #, unit='uK_CMB')\n",
    "    foreground_maps[i] = sync_freq_maps[:]+cmb_freq\n",
    "#print(cmb_freq)"
   ]
  },
  {
   "cell_type": "code",
   "execution_count": 3,
   "metadata": {},
   "outputs": [
    {
     "name": "stdout",
     "output_type": "stream",
     "text": [
      "[<Quantity 1.54>, 20.0, <Quantity -3.>]\n"
     ]
    }
   ],
   "source": [
    "inputs = [sky_vary.components[0].mbb_index,\n",
    "          sky_vary.components[0].mbb_temperature.value,\n",
    "          sky_vary.components[1].pl_index]\n",
    "print(inputs)"
   ]
  },
  {
   "cell_type": "code",
   "execution_count": 11,
   "metadata": {},
   "outputs": [
    {
     "name": "stdout",
     "output_type": "stream",
     "text": [
      "(1, 3072)\n"
     ]
    }
   ],
   "source": [
    "components = [CMB(), Dust(150.), Synchrotron(20.)]\n",
    "result=np.zeros((n_maps,n_pix,2))\n",
    "for i in range(n_maps):\n",
    "    compsep_tot=basic_comp_sep(components, instrument, foreground_maps[i,:,:1],nside=nside_compsep) #nside=0 is default\n",
    "    compsep=compsep_tot.s[0]\n",
    "    print(compsep.shape)\n",
    "    #for p in range(pol):\n",
    "        #result[i,:,p]=compsep[p+1]-cmb_freq[0,p+1,:]"
   ]
  },
  {
   "cell_type": "code",
   "execution_count": 12,
   "metadata": {},
   "outputs": [
    {
     "name": "stdout",
     "output_type": "stream",
     "text": [
      "[1.540044310378392, 19.999264809311637, -3.000778092465398]\n"
     ]
    }
   ],
   "source": [
    "outputs = [np.mean(compsep_tot.x[i]) for i in range(len(compsep_tot.x))]\n",
    "print(outputs)"
   ]
  },
  {
   "cell_type": "code",
   "execution_count": 10,
   "metadata": {},
   "outputs": [
    {
     "name": "stdout",
     "output_type": "stream",
     "text": [
      "[-3.26035943e-04  3.13453148e-05  3.26261268e-04]\n"
     ]
    }
   ],
   "source": [
    "print((np.asarray(outputs)-np.asarray([1.540035111817395, 19.999755986910053, -3.0007962980019314]))/outputs)"
   ]
  },
  {
   "cell_type": "code",
   "execution_count": null,
   "metadata": {},
   "outputs": [],
   "source": []
  }
 ],
 "metadata": {
  "kernelspec": {
   "display_name": "camb-kernel",
   "language": "python",
   "name": "camb-kernel"
  },
  "language_info": {
   "codemirror_mode": {
    "name": "ipython",
    "version": 3
   },
   "file_extension": ".py",
   "mimetype": "text/x-python",
   "name": "python",
   "nbconvert_exporter": "python",
   "pygments_lexer": "ipython3",
   "version": "3.9.16"
  }
 },
 "nbformat": 4,
 "nbformat_minor": 2
}
