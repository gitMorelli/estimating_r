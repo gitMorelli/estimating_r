{
 "cells": [
  {
   "cell_type": "code",
   "execution_count": 5,
   "metadata": {},
   "outputs": [],
   "source": [
    "import pandas as pd\n",
    "import numpy as np"
   ]
  },
  {
   "cell_type": "code",
   "execution_count": 6,
   "metadata": {},
   "outputs": [],
   "source": [
    "lr=8e-05\n",
    "drop_rate=0.2\n",
    "n_layers_1=64\n",
    "n_layers_2=16\n",
    "n_layer_0=48\n",
    "batch_size=16\n",
    "p_reduce=20\n",
    "f_reduce=0.1\n",
    "p_stopping=20\n",
    "one_layer=\"False\"\n",
    "stopping_monitor=\"val_loss\"\n",
    "reduce_monitor=\"val_loss\"\n",
    "name=\"results_3b_5_23\"\n",
    "base_dir=\"/home/amorelli/r_estimate/B_maps_white_noise/\"+name+\"/\"\n",
    "sensitivity=4\n",
    "training_loss=\"new_sigma_batch\""
   ]
  },
  {
   "cell_type": "code",
   "execution_count": 8,
   "metadata": {},
   "outputs": [],
   "source": [
    "hyperparameters={}\n",
    "hyperparameters[\"name\"]=name\n",
    "hyperparameters[\"loss\"]=training_loss\n",
    "hyperparameters[\"noise\"]=sensitivity\n",
    "hyperparameters[\"p_stopping\"]=p_stopping\n",
    "hyperparameters[\"p_reduce\"]=p_reduce\n",
    "hyperparameters[\"f_reduce\"]=f_reduce\n",
    "hyperparameters[\"stop-reduce\"]=stopping_monitor+\"-\"+reduce_monitor\n",
    "hyperparameters[\"lr\"]=lr\n",
    "hyperparameters[\"batch_size\"]=batch_size\n",
    "hyperparameters[\"n_layers\"]=one_layer\n",
    "if one_layer:\n",
    "    hyperparameters[\"nodes_layers\"]=n_layer_0\n",
    "else:\n",
    "    hyperparameters[\"nodes_layers\"]=str(n_layer_1)+\"-\"+str(n_layer_2)\n",
    "hyperparameters[\"comments\"]=\"this is fine tuned on best model from tuning 1-5-23\"\n",
    "hyperparameters = {k:[v] for k,v in hyperparameters.items()}\n",
    "output=pd.DataFrame(hyperparameters)\n",
    "output.to_csv(base_dir+'output.txt', index=False, sep=' ')"
   ]
  },
  {
   "cell_type": "code",
   "execution_count": null,
   "metadata": {},
   "outputs": [],
   "source": []
  }
 ],
 "metadata": {
  "kernelspec": {
   "display_name": "camb-kernel",
   "language": "python",
   "name": "camb-kernel"
  },
  "language_info": {
   "codemirror_mode": {
    "name": "ipython",
    "version": 3
   },
   "file_extension": ".py",
   "mimetype": "text/x-python",
   "name": "python",
   "nbconvert_exporter": "python",
   "pygments_lexer": "ipython3",
   "version": "3.9.16"
  }
 },
 "nbformat": 4,
 "nbformat_minor": 2
}
