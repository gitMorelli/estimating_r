{
 "cells": [
  {
   "cell_type": "code",
   "execution_count": 1,
   "metadata": {},
   "outputs": [
    {
     "name": "stdout",
     "output_type": "stream",
     "text": [
      "[0.         0.         0.03463928 0.04716791 0.04361991 0.03117246\n",
      " 0.01845481 0.01001794 0.00603695 0.00461803 0.00400698 0.00344944\n",
      " 0.00294948 0.00268255 0.00267962 0.00284245 0.00306804 0.00337482\n",
      " 0.0038096  0.00441374 0.00519956 0.00614904 0.00725422 0.00850543\n",
      " 0.00990151 0.01144606 0.01314731 0.01500245 0.01699442 0.01915901\n",
      " 0.02153644 0.02412258 0.02693111 0.02992351 0.03312903 0.03656276\n",
      " 0.04025655 0.04421412 0.04840316 0.05282271 0.05748226 0.06239181\n",
      " 0.0675629  0.07300724 0.07873443 0.08475121 0.09106079]\n"
     ]
    }
   ],
   "source": [
    "#%matplotlib inline\n",
    "#%config InlineBackend.figure_format = 'retina'\n",
    "import sys, platform, os\n",
    "import matplotlib\n",
    "from matplotlib import pyplot as plt\n",
    "import numpy as np\n",
    "import camb\n",
    "import pandas as pd\n",
    "import healpy as hp\n",
    "from camb import model, initialpower\n",
    "from scipy.interpolate import interp1d\n",
    "\n",
    "#Set up a new set of parameters for CAMB\n",
    "pars = camb.CAMBparams()\n",
    "Nside_red=16\n",
    "Nside=512\n",
    "l_gen=Nside*4\n",
    "lmax=3*Nside_red-1\n",
    "#pars.set_cosmology(H0=67.5, ombh2=0.022, omch2=0.122, mnu=0.06, omk=0, tau=0.06)\n",
    "#pars.InitPower.set_params(As=2e-9, ns=0.965, r\n",
    "\n",
    "const=1.88 * 10**(-9)\n",
    "tau=0.06\n",
    "# In[4]:\n",
    "#This function sets up CosmoMC-like settings, with one massive neutrino and helium set using BBN consistency\n",
    "pars.set_cosmology(H0=67.32, ombh2=0.02237, omch2=0.1201, mnu=0.06, omk=0, tau=tau)\n",
    "pars.InitPower.set_params(As=const*np.exp(2*tau), ns=0.9651, r=0)\n",
    "pars.set_for_lmax(l_gen, lens_potential_accuracy=0)\n",
    "results = camb.get_results(pars)\n",
    "powers =results.get_cmb_power_spectra(pars, CMB_unit='muK',raw_cl=False)#spectra are multiplied by l*(l+1)/2pi\n",
    "totCL=powers['total']\n",
    "ls = np.arange(totCL.shape[0])\n",
    "cl_obs=np.asarray(totCL[0:lmax,1])\n",
    "ell = np.arange(0,lmax+1)\n",
    "print(totCL[0:lmax,1])"
   ]
  },
  {
   "cell_type": "code",
   "execution_count": 2,
   "metadata": {},
   "outputs": [
    {
     "name": "stdout",
     "output_type": "stream",
     "text": [
      "['data', 'tau']\n",
      "(130, 4, 47)\n"
     ]
    }
   ],
   "source": [
    "f_ = np.load('/home/amorelli/cl_generator/outfile_0.npz')\n",
    "#https://numpy.org/doc/stable/reference/generated/numpy.concatenate.html if i have multiple npz files\n",
    "\n",
    "print(f_.files) #give the keywords for the stored arrays\n",
    "data_in=f_[\"data\"]\n",
    "tau_in=f_[\"tau\"]\n",
    "#print(data[:15,0,2])\n",
    "data=data_in[:]\n",
    "print(data.shape)\n",
    "tau=tau_in[:]"
   ]
  },
  {
   "cell_type": "code",
   "execution_count": 3,
   "metadata": {},
   "outputs": [
    {
     "name": "stdout",
     "output_type": "stream",
     "text": [
      "[0.         0.         0.03463928 0.04716791 0.04361991 0.03117246\n",
      " 0.01845481 0.01001794 0.00603695 0.00461803 0.00400698 0.00344944\n",
      " 0.00294948 0.00268255 0.00267962 0.00284245 0.00306804 0.00337482\n",
      " 0.0038096  0.00441374 0.00519956 0.00614904 0.00725422 0.00850543\n",
      " 0.00990151 0.01144606 0.01314731 0.01500245 0.01699442 0.01915901\n",
      " 0.02153644 0.02412258 0.02693111 0.02992351 0.03312903 0.03656276\n",
      " 0.04025655 0.04421412 0.04840316 0.05282271 0.05748226 0.06239181\n",
      " 0.0675629  0.07300724 0.07873443 0.08475121 0.09106079]\n",
      "[   0.            0.          896.13579572  865.68289833  835.98432598\n",
      "  815.09264997  801.97058746  794.68779921  791.50232755  791.69249238\n",
      "  794.23564883  798.38472359  805.33032931  813.2273032   821.84890537\n",
      "  830.33386718  840.54725374  852.39369091  864.77683999  878.45453916\n",
      "  891.81332137  905.59077141  919.85267125  934.19497487  948.91398977\n",
      "  964.15279532  979.43482537  995.16720568 1011.17569531 1027.3825086\n",
      " 1043.98577237 1060.38571705 1077.39246574 1094.47612367 1111.61383468\n",
      " 1129.38756611 1146.89707937 1164.6642494  1182.79206406 1201.18290383\n",
      " 1219.75771036 1238.43148573 1257.20689599 1276.0955242  1295.14609588\n",
      " 1314.42219388 1333.8896639 ]\n"
     ]
    }
   ],
   "source": [
    "#i prepare the data\n",
    "print(cl_obs)\n",
    "print(data[0,0,:])\n",
    "def normalize_cl(input_cl):\n",
    "    output_cl=np.zeros(len(input_cl))\n",
    "    for i in range(1,len(input_cl)):\n",
    "        output_cl[i]=input_cl[i]/(i)/(i+1)*2*np.pi\n",
    "    return output_cl\n",
    "    "
   ]
  },
  {
   "cell_type": "code",
   "execution_count": 4,
   "metadata": {},
   "outputs": [
    {
     "name": "stdout",
     "output_type": "stream",
     "text": [
      "(131, 47)\n",
      "[0.00000000e+00 0.00000000e+00 3.62741698e-02 2.46970576e-02\n",
      " 1.37036001e-02 6.52874394e-03 2.76083250e-03 1.12401026e-03\n",
      " 5.26823596e-04 3.22399074e-04 2.28877883e-04 1.64192865e-04\n",
      " 1.18795861e-04 9.26098336e-05 8.01739359e-05 7.44152640e-05\n",
      " 7.08716714e-05 6.92960980e-05 6.99894778e-05 7.29799078e-05\n",
      " 7.77852913e-05 8.36267763e-05 9.00783108e-05 9.68138114e-05\n",
      " 1.03688325e-04 1.10642618e-04 1.17673781e-04 1.24686728e-04\n",
      " 1.31501350e-04 1.38367404e-04 1.45502597e-04 1.52788979e-04\n",
      " 1.60239723e-04 1.67571265e-04 1.74920856e-04 1.82325859e-04\n",
      " 1.89894408e-04 1.97585717e-04 2.05213252e-04 2.12753126e-04\n",
      " 2.20226640e-04 2.27653504e-04 2.35055485e-04 2.42451393e-04\n",
      " 2.49850004e-04 2.57250037e-04 2.64640060e-04]\n"
     ]
    }
   ],
   "source": [
    "all_cl=np.zeros((len(tau)+1, lmax))\n",
    "all_cl[0]=normalize_cl(cl_obs)\n",
    "for i in range(1,len(tau)+1):\n",
    "    d=data[i-1,1,:]\n",
    "    all_cl[i]=normalize_cl(d)\n",
    "print(all_cl.shape)\n",
    "print(all_cl[0])\n",
    "#print(tau[:2],all_cl[:3])"
   ]
  },
  {
   "cell_type": "code",
   "execution_count": 5,
   "metadata": {},
   "outputs": [],
   "source": [
    "ntaus = 131\n",
    "ntausover = 13001\n",
    "\n",
    "taufid = 0.06\n",
    "\n",
    "lmin=2\n",
    "lmax=30\n",
    "\n",
    "nside = 16\n",
    "noise=4\n",
    "\n",
    "nl = (noise * np.deg2rad(1./60.))**2\n",
    "\n",
    "l = np.arange(lmin,lmax+1,1)\n",
    "\n",
    "bl2 = ((hp.gauss_beam(np.deg2rad(440./60.), lmax=lmax, pol=False)*hp.pixwin(nside,pol=False,lmax=lmax))[lmin:lmax+1])**2"
   ]
  },
  {
   "cell_type": "code",
   "execution_count": null,
   "metadata": {},
   "outputs": [],
   "source": []
  },
  {
   "cell_type": "code",
   "execution_count": 6,
   "metadata": {},
   "outputs": [],
   "source": [
    "clobs = bl2*all_cl[0,lmin:lmax+1] + nl\n",
    "logclobs = np.log(np.abs(clobs))\n",
    "\n",
    "taus = tau*1.0\n",
    "like = np.empty_like(taus)"
   ]
  },
  {
   "cell_type": "code",
   "execution_count": 7,
   "metadata": {},
   "outputs": [],
   "source": [
    "for itau,tau in enumerate(taus):\n",
    "    clth = bl2*all_cl[itau+1,lmin:lmax+1] + nl\n",
    "    like[itau] = -0.5*np.sum((2*l+1)*(clobs/clth+np.log(np.abs(clth))-logclobs-1))\n",
    "\n",
    "tausover = np.linspace(0.01,0.13,ntausover)\n"
   ]
  },
  {
   "cell_type": "code",
   "execution_count": 8,
   "metadata": {},
   "outputs": [],
   "source": [
    "def unison_sorted_copies(a, b):\n",
    "    assert len(a) == len(b)\n",
    "    p = a.argsort()\n",
    "    return a[p], b[p]\n",
    "taus, like=unison_sorted_copies(taus,like)"
   ]
  },
  {
   "cell_type": "code",
   "execution_count": 9,
   "metadata": {},
   "outputs": [
    {
     "name": "stdout",
     "output_type": "stream",
     "text": [
      "0.06013981011868392 0.0020854607077209863\n"
     ]
    },
    {
     "data": {
      "image/png": "[encoded data removed]",
      "text/plain": [
       "<Figure size 640x480 with 1 Axes>"
      ]
     },
     "metadata": {},
     "output_type": "display_data"
    }
   ],
   "source": [
    "likeover = interp1d(taus,like,kind='cubic')(tausover)\n",
    "probover = np.exp(likeover)\n",
    "\n",
    "plt.plot(tausover,probover)\n",
    "\n",
    "meantau = np.sum(probover*tausover)/np.sum(probover)\n",
    "sigmatau = np.sqrt(np.sum(probover*tausover**2)/np.sum(probover) - meantau**2)\n",
    "\n",
    "print(meantau,sigmatau)"
   ]
  },
  {
   "cell_type": "code",
   "execution_count": null,
   "metadata": {},
   "outputs": [],
   "source": []
  },
  {
   "cell_type": "code",
   "execution_count": null,
   "metadata": {},
   "outputs": [],
   "source": []
  }
 ],
 "metadata": {
  "kernelspec": {
   "display_name": "camb-kernel",
   "language": "python",
   "name": "camb-kernel"
  },
  "language_info": {
   "codemirror_mode": {
    "name": "ipython",
    "version": 3
   },
   "file_extension": ".py",
   "mimetype": "text/x-python",
   "name": "python",
   "nbconvert_exporter": "python",
   "pygments_lexer": "ipython3",
   "version": "3.9.16"
  }
 },
 "nbformat": 4,
 "nbformat_minor": 5
}
