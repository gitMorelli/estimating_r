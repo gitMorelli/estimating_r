{
 "cells": [
  {
   "cell_type": "code",
   "execution_count": 1,
   "metadata": {},
   "outputs": [
    {
     "data": {
      "text/plain": [
       "[<matplotlib.lines.Line2D at 0x7f901df8ed00>]"
      ]
     },
     "execution_count": 1,
     "metadata": {},
     "output_type": "execute_result"
    },
    {
     "data": {
      "image/png": "[encoded data removed]",
      "text/plain": [
       "<Figure size 640x480 with 1 Axes>"
      ]
     },
     "metadata": {},
     "output_type": "display_data"
    }
   ],
   "source": [
    "# import the necessary libraries\n",
    "import sys, platform, os\n",
    "import matplotlib\n",
    "from matplotlib import pyplot as plt\n",
    "import numpy as np\n",
    "import camb\n",
    "import pandas as pd\n",
    "import healpy as hp\n",
    "from camb import model, initialpower\n",
    "from scipy.special import gamma, factorial\n",
    "\n",
    "Nside_red=16\n",
    "Nside=512\n",
    "#lmax=3*Nside_red-1\n",
    "lmax=2*Nside_red\n",
    "l_gen=4*Nside #i put l_gen >> lmax as in the other files to generate the cl\n",
    "ell = np.arange(0,lmax)\n",
    "#i take the test maps as input and compute the cl from each\n",
    "load_dir='/home/amorelli/r_estimate/B_maps_white_noise/' \n",
    "to_load=['test_data_r0000_t006_150.npz','test_data_r0001_t006_15.npz','test_data_r0005_t006_241.npz',\n",
    "         'test_data_r0007_t006_241.npz','test_data_r0010_t006_24.npz']\n",
    "home_dir=\"/home/amorelli/r_estimate/B_maps_white_noise/results_16_5_23/\"\n",
    "files=[]\n",
    "for name in to_load: \n",
    "    files.append(np.load(load_dir+name) )\n",
    "x_test=[]\n",
    "y_test=[]\n",
    "for i,f in enumerate(files):#i take the maps and the corresponding r_test for each input file\n",
    "    x_test.append(f[\"x_test\"][:10])\n",
    "    y=np.zeros(len(x_test[i]))+f[\"y_test\"] #y_test is a single number in the file -> i need to transform it in an array\n",
    "    #of the same length of x_test\n",
    "    y_test.append(y.reshape(y.shape[0],1)[:10])\n",
    "#x_test[0].shape is 10000,3072, 2 \n",
    "cl_obs=[]\n",
    "for i,x in enumerate(x_test):\n",
    "    cl_obs.append(np.zeros(shape=(len(x),lmax)))\n",
    "    for j,map_pair in enumerate(x):\n",
    "        #cl_obs[i][j]=hp.anafast(0.5*(hp.remove_monopole(map_pair[:,0])+hp.remove_monopole(map_pair[:,1])),lmax=lmax-1,pol=False)\n",
    "        cl_obs[i][j]=hp.anafast(hp.remove_monopole(map_pair[:,0]),hp.remove_monopole(map_pair[:,1]),lmax=lmax-1,pol=False)\n",
    "        #cl_obs[i][j]=hp.anafast(map_pair[:,0],lmax=lmax-1,pol=False)\n",
    "#i take in input the value of sigma estimated for each of these maps\n",
    "plt.plot(ell,cl_obs[2][2])\n",
    "#cl_obs=np.asarray(totCL[0:lmax,2])# i take the C_l^BB"
   ]
  },
  {
   "cell_type": "code",
   "execution_count": 2,
   "metadata": {},
   "outputs": [
    {
     "name": "stdout",
     "output_type": "stream",
     "text": [
      "['data', 'r']\n",
      "(1100, 4, 47)\n"
     ]
    }
   ],
   "source": [
    "f_ = np.load('/home/amorelli/cl_generator/outfile_R_000_001_seed=67.npz')# itake as input the Cl i use to generate the training set for the NN\n",
    "print(f_.files) #give the keywords for the stored arrays\n",
    "data_in=f_[\"data\"]\n",
    "r_in=f_[\"r\"]\n",
    "print(data_in.shape)\n",
    "\n",
    "def unison_sorted_copies(a, b): # the function to sort two arrays in unison = i sort the first array and the \n",
    "    #the elements of the second are sorted in the same way\n",
    "    assert len(a) == len(b)\n",
    "    p=np.argsort(a,axis=0) #i sort a and take the array of the indexes of the sorted a elements\n",
    "    a_out=np.empty_like(a) \n",
    "    b_out=np.empty_like(b)\n",
    "    for i in range(len(a)): #reorder both arrays using these indexes. I need to do like this (different from unison shuffle)\n",
    "        #because if not the shape of the array changes\n",
    "        a_out[i]=a[p[i]]\n",
    "        b_out[i]=b[p[i]]\n",
    "    return a_out, b_out\n",
    "r_in,data_in=unison_sorted_copies(r_in, data_in) # i sort according to r\n",
    "end=len(data_in)\n",
    "data=data_in[:end]\n",
    "r_arr=r_in[:end]"
   ]
  },
  {
   "cell_type": "code",
   "execution_count": 3,
   "metadata": {},
   "outputs": [],
   "source": [
    "high_nside = 512\n",
    "low_nside= 16\n",
    "window=hp.pixwin(low_nside,lmax=lmax, pol=False)\n",
    "res=hp.nside2resol(low_nside)\n",
    "beam=hp.gauss_beam(2*res, lmax=lmax, pol=False)\n",
    "res_low=hp.nside2resol(low_nside)\n",
    "n_pix=hp.nside2npix(low_nside)\n",
    "sensitivity=4/2**0.25 #i take this sensitivity because i need to compare with a NN that uses two maps\n",
    "#it can be shown that is like analysing a single map with smaller sensitivity\n",
    "mu, sigma = 0, sensitivity*np.deg2rad(1./60.)/res\n",
    "Nl=(sensitivity*np.deg2rad(1.0/60.0))**2 #i compute the Nl (harmonic transorm of the noise)\n",
    "smooth=beam*window"
   ]
  },
  {
   "cell_type": "code",
   "execution_count": 4,
   "metadata": {},
   "outputs": [],
   "source": [
    "def normalize_cl(input_cl): #this is the function to divide each cl of a given spectra by l(l+1)/2pi\n",
    "    output_cl=np.zeros(len(input_cl)) # i prepare the output array\n",
    "    for i in range(1,len(input_cl)):\n",
    "        output_cl[i]=input_cl[i]/i/(i+1)*2*np.pi # i divide each element by l(l+1)/2pi\n",
    "    return output_cl\n",
    "    "
   ]
  },
  {
   "cell_type": "code",
   "execution_count": 5,
   "metadata": {},
   "outputs": [],
   "source": [
    "all_cl=np.zeros((len(r_arr)+1, lmax)) #i prepare an array to store all normalized spectra. The 0th element is the test spectra\n",
    "for i in range(1,len(r_arr)+1):\n",
    "    d=data[i-1,2,:lmax] #i take the ith C^BB(l) spectra\n",
    "    all_cl[i]=normalize_cl(d)*(smooth[:lmax])**2+Nl #i normalize and .. "
   ]
  },
  {
   "cell_type": "code",
   "execution_count": 6,
   "metadata": {},
   "outputs": [],
   "source": [
    "def compute_likelihood(c_obs,c_EE,c_ET,l): #this takes in input the lth element of the test spectra and the lth\n",
    "    #element of each input spectra\n",
    "    cl_obs=c_obs[l]\n",
    "    cl_th=c_th[:,l]\n",
    "    cl_EE=c_EE[:,l]\n",
    "    cl_TT=cl_EE\n",
    "    cl_ET=c_ET[:,l]\n",
    "    # how i can compute cl_E1E1 and cl_E1E2 .. from the input Cl?? which are Cl^EE Cl^TT Cl^ET Cl^BB for a given r the Cl is the same\n",
    "    #should i take the observed one also in this case? No it won't make sense\n",
    "    logL=np.zeros(len(cl_th))\n",
    "    for i,cl in enumerate(cl_th):\n",
    "        cl_r=cl\n",
    "        nu=2*l+1\n",
    "        detV=cl_TT*cl_EE-cl_ET**2\n",
    "        gamma_nu_half=gamma(nu/2)\n",
    "        logL_i=-(2*l+1)/2*(cl_obs/cl_r+np.log(np.abs(cl_r))-1-np.log(np.abs(cl_obs))) #this is the expression to compute \n",
    "        #the log-likelihood for a certain l<=lmax. \n",
    "        #the term -1-np.log(np.abs(cl_obs)) is addes so that for cl_r=cl_obs logL=0 -> L=1\n",
    "        logL[i]=logL_i\n",
    "    return(logL)"
   ]
  },
  {
   "cell_type": "code",
   "execution_count": 7,
   "metadata": {},
   "outputs": [],
   "source": [
    "from scipy.interpolate import interp1d # this is another way to get sigma and mean from the likelihood function\n",
    "rover = np.linspace(0,r_arr[end-1],10000) #i generate the set of points on which i want to compute the likelihood\n",
    "sigma_exact=[]\n",
    "for i in range(len(cl_obs)):\n",
    "    sigma_exact.append(np.zeros(len(cl_obs[i])))\n",
    "    for j in range(len(cl_obs[i])):\n",
    "        logL=0\n",
    "        l=lmax\n",
    "        #all_cl[0]=cl_obs[i][j]+Nl\n",
    "        all_cl[0]=cl_obs[i][j]\n",
    "        #print(all_cl[0])\n",
    "        for l in ell[2:l]: # i compute logL for each value of l and take the sum of all of them to get the complete likelihood\n",
    "            logL+=compute_likelihood(all_cl[0],all_cl[1:],l)\n",
    "        #print(logL)\n",
    "        #print(\"--------------------------------\")\n",
    "        likeover = interp1d(r_arr,logL,kind='cubic')(rover) # i interpolate the points of the likelihood curve: i generate a curve with len(rover)\n",
    "        #points that best fits the likelihood array so that the likelihood curve is smoother\n",
    "        probover = np.exp(likeover)\n",
    "        #plt.plot(rover,probover)\n",
    "\n",
    "        meanr = np.sum(probover*rover)/np.sum(probover) # i compute directly the mean on the set of discrete points (i don't do the integral)\n",
    "        #print(meanr)\n",
    "        sigmar = np.sqrt(np.sum(probover*rover**2)/np.sum(probover) - meanr**2)\n",
    "        #print(sigmar)\n",
    "        sigma_exact[i][j]=sigmar"
   ]
  },
  {
   "cell_type": "code",
   "execution_count": 8,
   "metadata": {},
   "outputs": [
    {
     "name": "stdout",
     "output_type": "stream",
     "text": [
      "[0.00104714 0.00109308 0.00086243 0.00105015 0.00097024 0.00085994\n",
      " 0.00104279 0.00104791 0.0010476  0.00108808] [0.00071652 0.00073897 0.00061813 0.00075241 0.00061713 0.00064834\n",
      " 0.00071643 0.00080793 0.00071657 0.00085353]\n"
     ]
    },
    {
     "data": {
      "text/plain": [
       "[<matplotlib.lines.Line2D at 0x7f901de60580>]"
      ]
     },
     "execution_count": 8,
     "metadata": {},
     "output_type": "execute_result"
    },
    {
     "data": {
      "image/png": "[encoded data removed]",
      "text/plain": [
       "<Figure size 640x480 with 1 Axes>"
      ]
     },
     "metadata": {},
     "output_type": "display_data"
    }
   ],
   "source": [
    "f=np.load(home_dir+\"sigma_out.npz\")\n",
    "map_names=f.files\n",
    "sigma_est=[]\n",
    "for name in map_names:\n",
    "    sigma_est.append(f[name][:10])\n",
    "print(sigma_est[2], sigma_exact[2])\n",
    "plt.plot(sigma_exact[2],sigma_est[2], color='r',linestyle='None',marker='.', markersize = 10.0) "
   ]
  },
  {
   "cell_type": "code",
   "execution_count": null,
   "metadata": {},
   "outputs": [],
   "source": []
  }
 ],
 "metadata": {
  "kernelspec": {
   "display_name": "camb-kernel",
   "language": "python",
   "name": "camb-kernel"
  },
  "language_info": {
   "codemirror_mode": {
    "name": "ipython",
    "version": 3
   },
   "file_extension": ".py",
   "mimetype": "text/x-python",
   "name": "python",
   "nbconvert_exporter": "python",
   "pygments_lexer": "ipython3",
   "version": "3.9.16"
  }
 },
 "nbformat": 4,
 "nbformat_minor": 5
}
