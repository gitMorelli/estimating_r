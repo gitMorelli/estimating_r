{
 "cells": [
  {
   "cell_type": "code",
   "execution_count": 2,
   "metadata": {},
   "outputs": [],
   "source": [
    "#!/usr/bin/env python\n",
    "# coding: utf-8\n",
    "\n",
    "import sys, platform, os\n",
    "import matplotlib\n",
    "from matplotlib import pyplot as plt\n",
    "import numpy as np\n",
    "import camb\n",
    "import pandas as pd\n",
    "import healpy as hp\n",
    "from camb import model, initialpower\n",
    "import useful_functions as uf\n",
    "\n",
    "Nside=512\n",
    "Nside_red=16\n",
    "tau=[(0.0,0.0),(0.05,0.05),(0.06,0.06),(0.07,0.07)]\n",
    "r=(0.0,0.0)\n",
    "n_test=10\n",
    "n_channels=2\n",
    "pol=2\n",
    "res=hp.nside2resol(Nside_red) \n",
    "sensitivity=4 #muK-arcmin\n",
    "\n",
    "for i in range(len(tau)):\n",
    "    seed_test=70+i\n",
    "    np.random.seed(seed_test)# i set a seed for the generation of the maps and the a_lm. I use a seed for reproducibility.\n",
    "    outfile_name=\"test_data_r00\"+str(int(r[0]*100))+\"_t00\"+str(int(tau[i][0]*100))+\"_\"+str(seed_test)\n",
    "    \n",
    "    data=uf.generate_cl(n_spectra=1,Nside=Nside,Nside_red=Nside_red,tau_interval=tau[i],r_interval=r,raw=1,verbose=0)\n",
    "    \n",
    "    input_folder=\"/home/amorelli/foreground_noise_maps/noise_generation\"\n",
    "    input_files=os.listdir(input_folder)\n",
    "    for j in range(len(input_files)):\n",
    "        input_files[j]=input_folder+\"/\"+input_files[j]\n",
    "    noise_maps=uf.generate_noise_maps(n_test,n_channels,Nside_red,pol=2,sensitivity=sensitivity,input_files=input_files)\n",
    "    \n",
    "    maps_per_cl_gen=uf.maps_per_cl(distribution=0)\n",
    "    maps_per_cl=maps_per_cl_gen.compute_maps_per_cl([tau[i][0]],n_train=n_test,n_train_fix=n_test)\n",
    "    \n",
    "    mappe_QU,y_tau=uf.generate_maps(data, r=[tau[i][0]],n_train=n_test,nside=Nside_red, beam_w=2*res, noise_maps=noise_maps,\n",
    "                                    map_per_cl=maps_per_cl, kind_of_map=\"QU\", raw=1 , n_channels=n_channels,beam_yes=1 , verbose=0)\n",
    "    \n",
    "    #np.savez(outfile_name,x_test=mappe_QU,y_test=tau[i][0]) "
   ]
  },
  {
   "cell_type": "code",
   "execution_count": null,
   "metadata": {},
   "outputs": [],
   "source": []
  }
 ],
 "metadata": {
  "kernelspec": {
   "display_name": "camb-kernel",
   "language": "python",
   "name": "camb-kernel"
  },
  "language_info": {
   "codemirror_mode": {
    "name": "ipython",
    "version": 3
   },
   "file_extension": ".py",
   "mimetype": "text/x-python",
   "name": "python",
   "nbconvert_exporter": "python",
   "pygments_lexer": "ipython3",
   "version": "3.9.16"
  }
 },
 "nbformat": 4,
 "nbformat_minor": 2
}
