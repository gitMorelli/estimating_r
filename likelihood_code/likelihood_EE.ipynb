{
 "cells": [
  {
   "cell_type": "code",
   "execution_count": 1,
   "metadata": {},
   "outputs": [
    {
     "name": "stdout",
     "output_type": "stream",
     "text": [
      "[0.         0.         0.03463928 0.04716791 0.04361992 0.03117247\n",
      " 0.01845482 0.01001796 0.00603698 0.00461806 0.00400701 0.00344949\n",
      " 0.00294955 0.00268261 0.00267969 0.00284254 0.00306814 0.00337491\n",
      " 0.00380969 0.00441385 0.00519969 0.00614918 0.00725436 0.00850558\n",
      " 0.00990167 0.01144625 0.01314751 0.01500264 0.01699459 0.01915922\n",
      " 0.02153676 0.02412296 0.02693136 0.02992362 0.03312916 0.03656306\n",
      " 0.04025707 0.04421475 0.04840363 0.0528229  0.05748224 0.06239181\n",
      " 0.0675631  0.07300775 0.07873524 0.08475223 0.09106187]\n"
     ]
    }
   ],
   "source": [
    "#%matplotlib inline\n",
    "#%config InlineBackend.figure_format = 'retina'\n",
    "import sys, platform, os\n",
    "import matplotlib\n",
    "from matplotlib import pyplot as plt\n",
    "import numpy as np\n",
    "import camb\n",
    "import pandas as pd\n",
    "import healpy as hp\n",
    "from camb import model, initialpower\n",
    "from scipy.interpolate import interp1d\n",
    "\n",
    "#Set up a new set of parameters for CAMB\n",
    "pars = camb.CAMBparams()\n",
    "Nside_red=16\n",
    "Nside=512\n",
    "l_gen=Nside*4\n",
    "lmax=3*Nside_red-1\n",
    "#pars.set_cosmology(H0=67.5, ombh2=0.022, omch2=0.122, mnu=0.06, omk=0, tau=0.06)\n",
    "#pars.InitPower.set_params(As=2e-9, ns=0.965, r\n",
    "\n",
    "const=1.88 * 10**(-9)\n",
    "tau=0.06\n",
    "# In[4]:\n",
    "#This function sets up CosmoMC-like settings, with one massive neutrino and helium set using BBN consistency\n",
    "pars.set_cosmology(H0=67.32, ombh2=0.02237, omch2=0.1201, mnu=0.06, omk=0, tau=tau)\n",
    "pars.InitPower.set_params(As=const*np.exp(2*tau), ns=0.9651, r=0)\n",
    "pars.set_for_lmax(l_gen, lens_potential_accuracy=0)\n",
    "results = camb.get_results(pars)\n",
    "powers =results.get_cmb_power_spectra(pars, CMB_unit='muK',raw_cl=False)#spectra are multiplied by l*(l+1)/2pi\n",
    "totCL=powers['total']\n",
    "ls = np.arange(totCL.shape[0])\n",
    "cl_obs=np.asarray(totCL[0:lmax,1])\n",
    "ell = np.arange(0,lmax+1)\n",
    "print(totCL[0:lmax,1])"
   ]
  },
  {
   "cell_type": "code",
   "execution_count": 2,
   "metadata": {},
   "outputs": [
    {
     "name": "stdout",
     "output_type": "stream",
     "text": [
      "['data', 'tau']\n",
      "(1100, 4, 47)\n"
     ]
    }
   ],
   "source": [
    "f_ = np.load('/home/amorelli/cl_generator/outfile_0.npz')\n",
    "#https://numpy.org/doc/stable/reference/generated/numpy.concatenate.html if i have multiple npz files\n",
    "\n",
    "print(f_.files) #give the keywords for the stored arrays\n",
    "data_in=f_[\"data\"]\n",
    "tau_in=f_[\"tau\"]\n",
    "#print(data[:15,0,2])\n",
    "data=data_in[:]\n",
    "print(data.shape)\n",
    "tau=tau_in[:]"
   ]
  },
  {
   "cell_type": "code",
   "execution_count": 3,
   "metadata": {},
   "outputs": [
    {
     "name": "stdout",
     "output_type": "stream",
     "text": [
      "[0.         0.         0.03463928 0.04716791 0.04361992 0.03117247\n",
      " 0.01845482 0.01001796 0.00603698 0.00461806 0.00400701 0.00344949\n",
      " 0.00294955 0.00268261 0.00267969 0.00284254 0.00306814 0.00337491\n",
      " 0.00380969 0.00441385 0.00519969 0.00614918 0.00725436 0.00850558\n",
      " 0.00990167 0.01144625 0.01314751 0.01500264 0.01699459 0.01915922\n",
      " 0.02153676 0.02412296 0.02693136 0.02992362 0.03312916 0.03656306\n",
      " 0.04025707 0.04421475 0.04840363 0.0528229  0.05748224 0.06239181\n",
      " 0.0675631  0.07300775 0.07873524 0.08475223 0.09106187]\n",
      "[   0.            0.         1079.28860259 1019.80770566  960.91049972\n",
      "  915.2061159   882.37423879  860.18080079  845.89836805  837.73444561\n",
      "  834.35431746  834.25003222  837.85596042  843.03335211  849.74426081\n",
      "  856.8126459   865.97605792  877.02189258  888.73933549  901.87192476\n",
      "  914.80440313  928.22242956  942.14134019  956.16269898  970.59492325\n",
      "  985.56314563 1000.57069384 1016.02600672 1031.76115486 1047.70323893\n",
      " 1064.05477172 1080.21979291 1097.00989633 1113.88788018 1130.82185181\n",
      " 1148.38660181 1165.67752203 1183.22148658 1201.1265155  1219.29078427\n",
      " 1237.62872038 1256.05108355 1274.56538427 1293.19032183 1311.98173807\n",
      " 1331.01033226 1350.24721496]\n"
     ]
    }
   ],
   "source": [
    "#i prepare the data\n",
    "print(cl_obs)\n",
    "print(data[0,0,:])\n",
    "def normalize_cl(input_cl):\n",
    "    output_cl=np.zeros(len(input_cl))\n",
    "    for i in range(1,len(input_cl)):\n",
    "        output_cl[i]=input_cl[i]/(i)/(i+1)*2*np.pi\n",
    "    return output_cl\n",
    "    "
   ]
  },
  {
   "cell_type": "code",
   "execution_count": 4,
   "metadata": {},
   "outputs": [
    {
     "name": "stdout",
     "output_type": "stream",
     "text": [
      "(1101, 47)\n",
      "[0.00000000e+00 0.00000000e+00 3.62741727e-02 2.46970606e-02\n",
      " 1.37036029e-02 6.52874650e-03 2.76083524e-03 1.12401287e-03\n",
      " 5.26826065e-04 3.22401444e-04 2.28880068e-04 1.64195433e-04\n",
      " 1.18798496e-04 9.26117767e-05 8.01761196e-05 7.44176165e-05\n",
      " 7.08738836e-05 6.92980678e-05 6.99912625e-05 7.29816561e-05\n",
      " 7.77871460e-05 8.36286556e-05 9.00800233e-05 9.68154228e-05\n",
      " 1.03690065e-04 1.10644493e-04 1.17675601e-04 1.24688317e-04\n",
      " 1.31502670e-04 1.38368874e-04 1.45504761e-04 1.52791363e-04\n",
      " 1.60241232e-04 1.67571891e-04 1.74921553e-04 1.82327345e-04\n",
      " 1.89896872e-04 1.97588507e-04 2.05215235e-04 2.12753875e-04\n",
      " 2.20226561e-04 2.27653504e-04 2.35056200e-04 2.42453069e-04\n",
      " 2.49852564e-04 2.57253132e-04 2.64643193e-04]\n"
     ]
    }
   ],
   "source": [
    "all_cl=np.zeros((len(tau)+1, lmax))\n",
    "all_cl[0]=normalize_cl(cl_obs)\n",
    "for i in range(1,len(tau)+1):\n",
    "    d=data[i-1,1,:]\n",
    "    all_cl[i]=normalize_cl(d)\n",
    "print(all_cl.shape)\n",
    "print(all_cl[0])\n",
    "#print(tau[:2],all_cl[:3])"
   ]
  },
  {
   "cell_type": "code",
   "execution_count": 5,
   "metadata": {},
   "outputs": [],
   "source": [
    "ntaus = 131\n",
    "ntausover = 13001\n",
    "\n",
    "taufid = 0.06\n",
    "\n",
    "lmin=2\n",
    "lmax=30\n",
    "\n",
    "nside = 16\n",
    "noise=4\n",
    "\n",
    "nl = (noise * np.deg2rad(1./60.))**2\n",
    "\n",
    "l = np.arange(lmin,lmax+1,1)\n",
    "\n",
    "bl2 = ((hp.gauss_beam(np.deg2rad(440./60.), lmax=lmax, pol=False)*hp.pixwin(nside,pol=False,lmax=lmax))[lmin:lmax+1])**2"
   ]
  },
  {
   "cell_type": "code",
   "execution_count": null,
   "metadata": {},
   "outputs": [],
   "source": []
  },
  {
   "cell_type": "code",
   "execution_count": 6,
   "metadata": {},
   "outputs": [],
   "source": [
    "clobs = bl2*all_cl[0,lmin:lmax+1] + nl\n",
    "logclobs = np.log(np.abs(clobs))\n",
    "\n",
    "taus = tau*1.0\n",
    "like = np.empty_like(taus)"
   ]
  },
  {
   "cell_type": "code",
   "execution_count": 7,
   "metadata": {},
   "outputs": [],
   "source": [
    "for itau,tau in enumerate(taus):\n",
    "    clth = bl2*all_cl[itau+1,lmin:lmax+1] + nl\n",
    "    like[itau] = -0.5*np.sum((2*l+1)*(clobs/clth+np.log(np.abs(clth))-logclobs-1))\n",
    "\n",
    "tausover = np.linspace(0.01,0.13,ntausover)\n"
   ]
  },
  {
   "cell_type": "code",
   "execution_count": 8,
   "metadata": {},
   "outputs": [],
   "source": [
    "def unison_sorted_copies(a, b):\n",
    "    assert len(a) == len(b)\n",
    "    p = a.argsort()\n",
    "    return a[p], b[p]\n",
    "taus, like=unison_sorted_copies(taus,like)"
   ]
  },
  {
   "cell_type": "code",
   "execution_count": 9,
   "metadata": {},
   "outputs": [
    {
     "name": "stdout",
     "output_type": "stream",
     "text": [
      "0.060140201275720076 0.0020854822092087172\n"
     ]
    },
    {
     "data": {
      "image/png": "[encoded data removed]",
      "text/plain": [
       "<Figure size 640x480 with 1 Axes>"
      ]
     },
     "metadata": {},
     "output_type": "display_data"
    }
   ],
   "source": [
    "likeover = interp1d(taus,like,kind='cubic')(tausover)\n",
    "probover = np.exp(likeover)\n",
    "\n",
    "plt.plot(tausover,probover)\n",
    "\n",
    "meantau = np.sum(probover*tausover)/np.sum(probover)\n",
    "sigmatau = np.sqrt(np.sum(probover*tausover**2)/np.sum(probover) - meantau**2)\n",
    "\n",
    "print(meantau,sigmatau)"
   ]
  },
  {
   "cell_type": "code",
   "execution_count": null,
   "metadata": {},
   "outputs": [],
   "source": []
  },
  {
   "cell_type": "code",
   "execution_count": null,
   "metadata": {},
   "outputs": [],
   "source": []
  }
 ],
 "metadata": {
  "kernelspec": {
   "display_name": "camb-kernel",
   "language": "python",
   "name": "camb-kernel"
  },
  "language_info": {
   "codemirror_mode": {
    "name": "ipython",
    "version": 3
   },
   "file_extension": ".py",
   "mimetype": "text/x-python",
   "name": "python",
   "nbconvert_exporter": "python",
   "pygments_lexer": "ipython3",
   "version": "3.9.16"
  }
 },
 "nbformat": 4,
 "nbformat_minor": 5
}
