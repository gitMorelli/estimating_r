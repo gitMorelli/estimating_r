{
 "cells": [
  {
   "cell_type": "code",
   "execution_count": 1,
   "metadata": {},
   "outputs": [
    {
     "name": "stderr",
     "output_type": "stream",
     "text": [
      "2023-05-29 15:16:11.801920: I tensorflow/core/platform/cpu_feature_guard.cc:193] This TensorFlow binary is optimized with oneAPI Deep Neural Network Library (oneDNN) to use the following CPU instructions in performance-critical operations:  AVX2 FMA\n",
      "To enable them in other operations, rebuild TensorFlow with the appropriate compiler flags.\n",
      "2023-05-29 15:16:12.980000: W tensorflow/compiler/xla/stream_executor/platform/default/dso_loader.cc:64] Could not load dynamic library 'libnvinfer.so.7'; dlerror: libnvinfer.so.7: cannot open shared object file: No such file or directory\n",
      "2023-05-29 15:16:12.980139: W tensorflow/compiler/xla/stream_executor/platform/default/dso_loader.cc:64] Could not load dynamic library 'libnvinfer_plugin.so.7'; dlerror: libnvinfer_plugin.so.7: cannot open shared object file: No such file or directory\n",
      "2023-05-29 15:16:12.980157: W tensorflow/compiler/tf2tensorrt/utils/py_utils.cc:38] TF-TRT Warning: Cannot dlopen some TensorRT libraries. If you would like to use Nvidia GPU with TensorRT, please make sure the missing libraries mentioned above are installed properly.\n"
     ]
    }
   ],
   "source": [
    "#!/usr/bin/env python\n",
    "# coding: utf-8\n",
    "\n",
    "import sys, platform, os\n",
    "import matplotlib\n",
    "from matplotlib import pyplot as plt\n",
    "import numpy as np\n",
    "import camb\n",
    "import pandas as pd\n",
    "import healpy as hp\n",
    "from camb import model, initialpower\n",
    "import useful_functions as uf\n",
    "import pysm3\n",
    "from fgbuster import (CMB, Dust, Synchrotron, basic_comp_sep,get_observation, get_instrument)\n",
    "from fgbuster.visualization import corner_norm\n",
    "seed_test=70\n",
    "np.random.seed(seed_test)# i set a seed for the generation of the maps and the a_lm. I use a seed for reproducibility."
   ]
  },
  {
   "cell_type": "code",
   "execution_count": 2,
   "metadata": {},
   "outputs": [],
   "source": [
    "import time\n",
    "start_time = time.time()"
   ]
  },
  {
   "cell_type": "code",
   "execution_count": 3,
   "metadata": {},
   "outputs": [
    {
     "name": "stderr",
     "output_type": "stream",
     "text": [
      "/home/amorelli/fgbuster/fgbuster/observation_helpers.py:97: FutureWarning: In a future version of pandas all arguments of DataFrame.dropna will be keyword-only.\n",
      "  return df.dropna(1, 'all')\n"
     ]
    }
   ],
   "source": [
    "instrument = get_instrument('LiteBIRD')\n",
    "sensitivities=instrument[\"depth_p\"]"
   ]
  },
  {
   "cell_type": "code",
   "execution_count": 4,
   "metadata": {},
   "outputs": [],
   "source": [
    "n_maps=10\n",
    "n_freq=len(sensitivities)\n",
    "nside=16\n",
    "n_pix=hp.nside2npix(nside)"
   ]
  },
  {
   "cell_type": "code",
   "execution_count": 5,
   "metadata": {},
   "outputs": [],
   "source": [
    "noise_maps=np.ones(shape=(n_freq,n_maps,n_pix))\n",
    "for i,s in enumerate(sensitivities):\n",
    "    noise=uf.generate_noise(n_maps,s,nside)\n",
    "    noise_maps[i]=noise"
   ]
  },
  {
   "cell_type": "code",
   "execution_count": 6,
   "metadata": {},
   "outputs": [],
   "source": [
    "sync_freq_maps = get_observation(instrument, 'd0s0', noise=False, nside=nside, unit='uK_CMB')"
   ]
  },
  {
   "cell_type": "code",
   "execution_count": 7,
   "metadata": {},
   "outputs": [],
   "source": [
    "r=np.ones(1)*0.01\n",
    "data=uf.generate_cl(n_spectra=1,Nside=512,Nside_red=nside,tau_interval=[0.06,0.06],r_interval=[0.01,0.01], raw=False)\n"
   ]
  },
  {
   "cell_type": "code",
   "execution_count": 8,
   "metadata": {},
   "outputs": [],
   "source": [
    "beam_w=2*hp.nside2resol(nside, arcmin=False)\n",
    "QU_maps=uf.generate_maps(data=data, r=r,n_train=n_maps,nside=16, n_train_fix=0, beam_w=beam_w, kind_of_map=\"QU\", raw=1 , \n",
    "                         distribution=0, n_channels=1, sensitivity=0,beam_yes=1 , verbose=0)[0]\n",
    "#recall T_maps are [n_maps,n_pix,n_channels]"
   ]
  },
  {
   "cell_type": "code",
   "execution_count": 9,
   "metadata": {},
   "outputs": [],
   "source": [
    "freq_maps=np.ones(shape=(n_maps,n_freq,2,n_pix))\n",
    "for j in range(n_maps):\n",
    "    for i in range(n_freq):\n",
    "        freq_maps[j,i,0]=noise_maps[i,j]+sync_freq_maps[i,1]+QU_maps[j,:,0]\n",
    "        freq_maps[j,i,1]=noise_maps[i,j]+sync_freq_maps[i,2]+QU_maps[j,:,1]"
   ]
  },
  {
   "cell_type": "code",
   "execution_count": 10,
   "metadata": {},
   "outputs": [],
   "source": [
    "components = [CMB(), Dust(150.), Synchrotron(20.)]\n"
   ]
  },
  {
   "cell_type": "code",
   "execution_count": 11,
   "metadata": {},
   "outputs": [],
   "source": [
    "result = np.ones(shape=(n_maps,2,n_pix))\n",
    "for i in range(n_maps):\n",
    "    result[i]=basic_comp_sep(components, instrument, freq_maps[i]).s[0]"
   ]
  },
  {
   "cell_type": "markdown",
   "metadata": {},
   "source": [
    "residuals = np.ones(shape=(n_maps,3,n_pix))\n",
    "for i in range(n_maps):\n",
    "    residuals[i,0]=result[i,0]-T_maps[i,:,0]\n",
    "    residuals[i,1]=result[i,1]-QU_maps[i,:,0]\n",
    "    residuals[i,2]=result[i,2]-QU_maps[i,:,1]"
   ]
  },
  {
   "cell_type": "markdown",
   "metadata": {},
   "source": [
    "res=hp.nside2resol(nside, arcmin=True)\n",
    "for i in range(3):\n",
    "    print(\"std:\",np.std(residuals[0,i])*res)\n",
    "    print(\"(other map)std:\",np.std(residuals[2,i])*res)\n",
    "for i in range(3):\n",
    "    print(\"mean:\",np.mean(residuals[0,i])*res)\n",
    "    print(\"(other map)mean:\",np.mean(residuals[2,i])*res)"
   ]
  },
  {
   "cell_type": "markdown",
   "metadata": {},
   "source": [
    "bin_edges= np.histogram_bin_edges(residuals[0,2], bins='fd')\n",
    "print(\"n_of_bins:\",len(bin_edges))\n",
    "counts_tau, bins_tau = np.histogram(residuals[0,2], bins=bin_edges)\n",
    "plt.stairs(counts_tau,bins_tau)"
   ]
  }
 ],
 "metadata": {
  "kernelspec": {
   "display_name": "camb-kernel",
   "language": "python",
   "name": "camb-kernel"
  },
  "language_info": {
   "codemirror_mode": {
    "name": "ipython",
    "version": 3
   },
   "file_extension": ".py",
   "mimetype": "text/x-python",
   "name": "python",
   "nbconvert_exporter": "python",
   "pygments_lexer": "ipython3",
   "version": "3.9.16"
  }
 },
 "nbformat": 4,
 "nbformat_minor": 2
}
